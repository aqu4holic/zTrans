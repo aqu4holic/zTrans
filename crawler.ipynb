{
 "cells": [
  {
   "cell_type": "code",
   "execution_count": 1,
   "metadata": {},
   "outputs": [],
   "source": [
    "import pandas as pd\n",
    "import numpy as np\n",
    "\n",
    "seed = 18022004\n",
    "np.random.seed(seed)"
   ]
  },
  {
   "cell_type": "code",
   "execution_count": 2,
   "metadata": {},
   "outputs": [],
   "source": [
    "data_prefix = 'data'\n",
    "repo_prefix = f'{data_prefix}/repos'\n",
    "\n",
    "repo_df = pd.read_parquet(f'{data_prefix}/500_sampled_raw.parquet')"
   ]
  },
  {
   "cell_type": "code",
   "execution_count": 3,
   "metadata": {},
   "outputs": [],
   "source": [
    "unique_repos = repo_df['repoName'].unique()"
   ]
  },
  {
   "cell_type": "code",
   "execution_count": 5,
   "metadata": {},
   "outputs": [
    {
     "data": {
      "text/plain": [
       "283"
      ]
     },
     "execution_count": 5,
     "metadata": {},
     "output_type": "execute_result"
    }
   ],
   "source": [
    "len(unique_repos)"
   ]
  },
  {
   "cell_type": "code",
   "execution_count": 31,
   "metadata": {},
   "outputs": [
    {
     "data": {
      "text/html": [
       "<div>\n",
       "<style scoped>\n",
       "    .dataframe tbody tr th:only-of-type {\n",
       "        vertical-align: middle;\n",
       "    }\n",
       "\n",
       "    .dataframe tbody tr th {\n",
       "        vertical-align: top;\n",
       "    }\n",
       "\n",
       "    .dataframe thead th {\n",
       "        text-align: right;\n",
       "    }\n",
       "</style>\n",
       "<table border=\"1\" class=\"dataframe\">\n",
       "  <thead>\n",
       "    <tr style=\"text-align: right;\">\n",
       "      <th></th>\n",
       "      <th>id</th>\n",
       "      <th>fromLib</th>\n",
       "      <th>toLib</th>\n",
       "      <th>repoName</th>\n",
       "      <th>fileName</th>\n",
       "      <th>startCommit</th>\n",
       "      <th>endCommit</th>\n",
       "      <th>startCommitChanges</th>\n",
       "      <th>endCommitChanges</th>\n",
       "      <th>startCommitMessage</th>\n",
       "      <th>endCommitMessage</th>\n",
       "      <th>startCommitTime</th>\n",
       "      <th>endCommitTime</th>\n",
       "      <th>Category</th>\n",
       "    </tr>\n",
       "  </thead>\n",
       "  <tbody>\n",
       "    <tr>\n",
       "      <th>4908</th>\n",
       "      <td>4908</td>\n",
       "      <td>junit:junit</td>\n",
       "      <td>org.junit.jupiter:junit-jupiter-params</td>\n",
       "      <td>svenkubiak_mangooio</td>\n",
       "      <td>pom.xml</td>\n",
       "      <td>3a6b91fa396307230aba6394ceb70ccf52cd4184</td>\n",
       "      <td>3a6b91fa396307230aba6394ceb70ccf52cd4184</td>\n",
       "      <td>+org.junit.jupiter:junit-jupiter-params\\n+org....</td>\n",
       "      <td>+org.junit.jupiter:junit-jupiter-params\\n+org....</td>\n",
       "      <td>#283 Migrated to JUnit 5\\n</td>\n",
       "      <td>#283 Migrated to JUnit 5\\n</td>\n",
       "      <td>2018-09-10</td>\n",
       "      <td>2018-09-10</td>\n",
       "      <td>73</td>\n",
       "    </tr>\n",
       "    <tr>\n",
       "      <th>4329</th>\n",
       "      <td>4329</td>\n",
       "      <td>junit:junit</td>\n",
       "      <td>org.junit.jupiter:junit-jupiter-api</td>\n",
       "      <td>svenkubiak_mangooio</td>\n",
       "      <td>mangooio-maven-plugin/pom.xml</td>\n",
       "      <td>3a6b91fa396307230aba6394ceb70ccf52cd4184</td>\n",
       "      <td>3a6b91fa396307230aba6394ceb70ccf52cd4184</td>\n",
       "      <td>+org.junit.jupiter:junit-jupiter-params\\n+org....</td>\n",
       "      <td>+org.junit.jupiter:junit-jupiter-params\\n+org....</td>\n",
       "      <td>#283 Migrated to JUnit 5\\n</td>\n",
       "      <td>#283 Migrated to JUnit 5\\n</td>\n",
       "      <td>2018-09-10</td>\n",
       "      <td>2018-09-10</td>\n",
       "      <td>73</td>\n",
       "    </tr>\n",
       "  </tbody>\n",
       "</table>\n",
       "</div>"
      ],
      "text/plain": [
       "        id      fromLib                                   toLib  \\\n",
       "4908  4908  junit:junit  org.junit.jupiter:junit-jupiter-params   \n",
       "4329  4329  junit:junit     org.junit.jupiter:junit-jupiter-api   \n",
       "\n",
       "                 repoName                       fileName  \\\n",
       "4908  svenkubiak_mangooio                        pom.xml   \n",
       "4329  svenkubiak_mangooio  mangooio-maven-plugin/pom.xml   \n",
       "\n",
       "                                   startCommit  \\\n",
       "4908  3a6b91fa396307230aba6394ceb70ccf52cd4184   \n",
       "4329  3a6b91fa396307230aba6394ceb70ccf52cd4184   \n",
       "\n",
       "                                     endCommit  \\\n",
       "4908  3a6b91fa396307230aba6394ceb70ccf52cd4184   \n",
       "4329  3a6b91fa396307230aba6394ceb70ccf52cd4184   \n",
       "\n",
       "                                     startCommitChanges  \\\n",
       "4908  +org.junit.jupiter:junit-jupiter-params\\n+org....   \n",
       "4329  +org.junit.jupiter:junit-jupiter-params\\n+org....   \n",
       "\n",
       "                                       endCommitChanges  \\\n",
       "4908  +org.junit.jupiter:junit-jupiter-params\\n+org....   \n",
       "4329  +org.junit.jupiter:junit-jupiter-params\\n+org....   \n",
       "\n",
       "              startCommitMessage            endCommitMessage startCommitTime  \\\n",
       "4908  #283 Migrated to JUnit 5\\n  #283 Migrated to JUnit 5\\n      2018-09-10   \n",
       "4329  #283 Migrated to JUnit 5\\n  #283 Migrated to JUnit 5\\n      2018-09-10   \n",
       "\n",
       "     endCommitTime  Category  \n",
       "4908    2018-09-10        73  \n",
       "4329    2018-09-10        73  "
      ]
     },
     "execution_count": 31,
     "metadata": {},
     "output_type": "execute_result"
    }
   ],
   "source": [
    "for id in range(len(unique_repos)):\n",
    "    repo_id = unique_repos[id]\n",
    "\n",
    "    data_w_repo = repo_df[repo_df['repoName'] == repo_id]\n",
    "\n",
    "    # print(data_w_repo)\n",
    "\n",
    "    break\n",
    "\n",
    "data_w_repo"
   ]
  }
 ],
 "metadata": {
  "kernelspec": {
   "display_name": "venv",
   "language": "python",
   "name": "python3"
  },
  "language_info": {
   "codemirror_mode": {
    "name": "ipython",
    "version": 3
   },
   "file_extension": ".py",
   "mimetype": "text/x-python",
   "name": "python",
   "nbconvert_exporter": "python",
   "pygments_lexer": "ipython3",
   "version": "3.10.12"
  }
 },
 "nbformat": 4,
 "nbformat_minor": 2
}
