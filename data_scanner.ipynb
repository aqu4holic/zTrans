{
 "cells": [
  {
   "cell_type": "code",
   "execution_count": 1,
   "metadata": {},
   "outputs": [],
   "source": [
    "import pandas as pd\n",
    "from typing import List, Tuple, Dict, Any, Optional\n",
    "import subprocess"
   ]
  },
  {
   "cell_type": "code",
   "execution_count": 2,
   "metadata": {},
   "outputs": [],
   "source": [
    "data_prefix: str = 'data'\n",
    "repo_prefix: str = f'{data_prefix}/repos'\n",
    "\n",
    "data_name: str = 'original.parquet'\n",
    "\n",
    "repo_df: pd.DataFrame = pd.read_parquet(f'{data_prefix}/{data_name}', engine = 'pyarrow')"
   ]
  },
  {
   "cell_type": "code",
   "execution_count": 3,
   "metadata": {},
   "outputs": [],
   "source": [
    "# define template to crawl data\n",
    "get_prev_commit_template: str = '''\n",
    "cd ./{}/{}\n",
    "\n",
    "git rev-parse {}^\n",
    "'''\n",
    "\n",
    "get_diff_2_commit_template: str = '''\n",
    "cd ./{}/{}\n",
    "\n",
    "git diff --name-only {} {}\n",
    "'''\n",
    "\n",
    "get_file_at_commit_template: str = '''\n",
    "cd ./{}/{}\n",
    "\n",
    "git show {}:{}\n",
    "'''\n",
    "\n",
    "get_diff_file_template: str = '''\n",
    "cd ./{}/{}\n",
    "\n",
    "git diff {}..{} -- {}\n",
    "'''\n",
    "\n",
    "necessary_cols: List[str] = [\n",
    "    'id',\n",
    "    'fromLib',\n",
    "    'toLib',\n",
    "    'repoName',\n",
    "    'repoOwner',\n",
    "    'repoSplitName',\n",
    "    'startCommit',\n",
    "    'endCommit',\n",
    "    'fileName',\n",
    "    'startCode',\n",
    "    'endCode',\n",
    "    'diff',\n",
    "    'startCommitChanges',\n",
    "    'endCommitChanges',\n",
    "]\n",
    "sample_template: Dict[str, Any] = {k: None for k in necessary_cols}\n",
    "final_df: pd.DataFrame = pd.DataFrame(columns = necessary_cols)\n",
    "# final_df.set_index(id)\n",
    "\n",
    "def get_prev_commit(repo_prefix: str, repo_name: str, changed_commit: str) -> str:\n",
    "    get_prev_commit_script: str = get_prev_commit_template.format(repo_prefix, repo_name, changed_commit)\n",
    "    sub: subprocess.CompletedProcess = subprocess.run(get_prev_commit_script, shell = True, capture_output = True, encoding = 'utf-8', errors = 'ignore')\n",
    "\n",
    "    prev_commit: str = sub.stdout.strip()\n",
    "\n",
    "    return prev_commit\n",
    "\n",
    "def get_diff_2_commit(repo_prefix: str, repo_name: str, commit1: str, commit2: str) -> List[str]:\n",
    "    get_diff_2_commit_script: str = get_diff_2_commit_template.format(repo_prefix, repo_name, commit1, commit2)\n",
    "    sub: subprocess.CompletedProcess = subprocess.run(get_diff_2_commit_script, shell = True, capture_output = True, encoding = 'utf-8', errors = 'ignore')\n",
    "\n",
    "    diff: str = sub.stdout\n",
    "    diff_files: List[str] = diff.split('\\n')\n",
    "\n",
    "    return diff_files\n",
    "\n",
    "def get_start_end_commit_code(repo_prefix: str, repo_name: str, file_name: str, start_commit: str, end_commit: str) -> Tuple[str, str]:\n",
    "    try:\n",
    "        get_file_script: str = get_file_at_commit_template.format(repo_prefix, repo_name, start_commit, file_name)\n",
    "        sub: subprocess.CompletedProcess = subprocess.run(get_file_script, shell = True, capture_output = True, encoding = 'utf-8', errors = 'ignore')\n",
    "        start_commit_code: str = sub.stdout\n",
    "    except Exception as e:\n",
    "        start_commit_code: str = ''\n",
    "\n",
    "\n",
    "    try:\n",
    "        get_file_script: str = get_file_at_commit_template.format(repo_prefix, repo_name, end_commit, file_name)\n",
    "        sub: subprocess.CompletedProcess = subprocess.run(get_file_script, shell = True, capture_output = True, encoding='utf-8', errors='ignore')\n",
    "        end_commit_code: str = sub.stdout\n",
    "    except Exception as e:\n",
    "        end_commit_code: str = ''\n",
    "\n",
    "    return start_commit_code, end_commit_code\n",
    "\n",
    "def get_diff_file(repo_prefix: str, repo_name: str, file_name: str, start_commit: str, end_commit: str) -> str:\n",
    "    get_diff_file_script: str = get_diff_file_template.format(repo_prefix, repo_name, start_commit, end_commit, file_name)\n",
    "    sub: subprocess.CompletedProcess = subprocess.run(get_diff_file_script, shell = True, capture_output = True, encoding = 'utf-8', errors = 'ignore')\n",
    "    diff: str = sub.stdout\n",
    "\n",
    "    return diff\n",
    "\n",
    "def str_normalize(x: str) -> str:\n",
    "    if (x is None):\n",
    "        return ''\n",
    "    elif (len(x) == 0):\n",
    "        return ''\n",
    "\n",
    "    return x\n",
    "\n",
    "def create_data_rows(samples: pd.DataFrame, repo_name: str, sample_template: Dict[str, Any] = sample_template, sample_cnt: int = 0) -> Tuple[int, pd.DataFrame]:\n",
    "    sample_template.update({\n",
    "        # 'id': sample_cnt,\n",
    "        'repoName': repo_name,\n",
    "        'fromLib': samples.iloc[0]['fromLib'],\n",
    "        'toLib': samples.iloc[0]['toLib'],\n",
    "        'repoOwner': samples.iloc[0]['repoOwner'],\n",
    "        'repoSplitName': samples.iloc[0]['repoSplitName'],\n",
    "        'startCommit': samples.iloc[0]['startCommit'],\n",
    "        'endCommit': samples.iloc[0]['endCommit'],\n",
    "        'startCode': '',\n",
    "        'endCode': '',\n",
    "        'startCommitChanges': samples.iloc[0]['startCommitChanges'],\n",
    "        'endCommitChanges': samples.iloc[0]['endCommitChanges']\n",
    "    })\n",
    "\n",
    "    # get unique startCommit values for this repository's samples\n",
    "    changed_commits: List[str] = samples['startCommit'].unique().tolist()\n",
    "\n",
    "    res_df: pd.DataFrame = pd.DataFrame(columns = necessary_cols)\n",
    "\n",
    "    # get the diff of each commit and its previous commib\n",
    "    for commit_id in range(len(changed_commits)):\n",
    "        changed_commit: str = changed_commits[commit_id]\n",
    "\n",
    "        # get the previous commit hash and the diff\n",
    "        prev_commit: str = get_prev_commit(repo_prefix = repo_prefix, repo_name = repo_name, changed_commit = changed_commit)\n",
    "        diff_files: str = get_diff_2_commit(repo_prefix = repo_prefix, repo_name = repo_name,\n",
    "                                        commit1 = changed_commit, commit2 = prev_commit)\n",
    "\n",
    "        for file_name in diff_files:\n",
    "            try:\n",
    "                start_code, end_code = get_start_end_commit_code(repo_prefix = repo_prefix, repo_name = repo_name, file_name = file_name,\n",
    "                                                                start_commit = prev_commit, end_commit = changed_commit)\n",
    "                diff = get_diff_file(repo_prefix = repo_prefix, repo_name = repo_name, file_name = file_name,\n",
    "                                    start_commit = prev_commit, end_commit = changed_commit)\n",
    "            except Exception as e:\n",
    "                print(e)\n",
    "                print(f'file: {file_name}')\n",
    "                print(f'start: {prev_commit}, end: {changed_commit}')\n",
    "                print(f'start code: {start_code}')\n",
    "                print(f'end code: {end_code}')\n",
    "                print('-' * 50)\n",
    "\n",
    "                return None\n",
    "\n",
    "            sample_template['id'] = sample_cnt\n",
    "            sample_template['fileName'] = file_name\n",
    "            sample_template['startCode'], sample_template['endCode'] = str_normalize(start_code), str_normalize(end_code)\n",
    "            sample_template['diff'] = diff\n",
    "\n",
    "            res_df = pd.concat([res_df, pd.DataFrame([sample_template], columns = necessary_cols)], ignore_index = True)\n",
    "\n",
    "            sample_cnt += 1\n",
    "\n",
    "    return sample_cnt, res_df"
   ]
  },
  {
   "cell_type": "code",
   "execution_count": 4,
   "metadata": {},
   "outputs": [
    {
     "data": {
      "text/html": [
       "<div>\n",
       "<style scoped>\n",
       "    .dataframe tbody tr th:only-of-type {\n",
       "        vertical-align: middle;\n",
       "    }\n",
       "\n",
       "    .dataframe tbody tr th {\n",
       "        vertical-align: top;\n",
       "    }\n",
       "\n",
       "    .dataframe thead th {\n",
       "        text-align: right;\n",
       "    }\n",
       "</style>\n",
       "<table border=\"1\" class=\"dataframe\">\n",
       "  <thead>\n",
       "    <tr style=\"text-align: right;\">\n",
       "      <th></th>\n",
       "      <th>id</th>\n",
       "      <th>fromLib</th>\n",
       "      <th>toLib</th>\n",
       "      <th>repoName</th>\n",
       "      <th>fileName</th>\n",
       "      <th>startCommit</th>\n",
       "      <th>endCommit</th>\n",
       "      <th>startCommitChanges</th>\n",
       "      <th>endCommitChanges</th>\n",
       "      <th>startCommitMessage</th>\n",
       "      <th>endCommitMessage</th>\n",
       "      <th>startCommitTime</th>\n",
       "      <th>endCommitTime</th>\n",
       "      <th>Category</th>\n",
       "      <th>repoOwner</th>\n",
       "      <th>repoSplitName</th>\n",
       "    </tr>\n",
       "  </thead>\n",
       "  <tbody>\n",
       "    <tr>\n",
       "      <th>0</th>\n",
       "      <td>0</td>\n",
       "      <td>ant:ant</td>\n",
       "      <td>org.apache.ant:ant</td>\n",
       "      <td>bobmcwhirter_drools</td>\n",
       "      <td>pom.xml</td>\n",
       "      <td>0504ef4b2349dd7edc4d4991d29f688dc15da939</td>\n",
       "      <td>0504ef4b2349dd7edc4d4991d29f688dc15da939</td>\n",
       "      <td>+org.apache.ant:ant\\n+org.apache.ant:ant-apach...</td>\n",
       "      <td>+org.apache.ant:ant\\n+org.apache.ant:ant-apach...</td>\n",
       "      <td>JBRULES-2737 Build with maven 3 fails on Guvno...</td>\n",
       "      <td>JBRULES-2737 Build with maven 3 fails on Guvno...</td>\n",
       "      <td>2010-10-20</td>\n",
       "      <td>2010-10-20</td>\n",
       "      <td>0</td>\n",
       "      <td>bobmcwhirter</td>\n",
       "      <td>drools</td>\n",
       "    </tr>\n",
       "    <tr>\n",
       "      <th>1</th>\n",
       "      <td>1</td>\n",
       "      <td>ant:ant</td>\n",
       "      <td>org.apache.ant:ant</td>\n",
       "      <td>wocommunity_wolips</td>\n",
       "      <td>woproject-ant-tasks/pom.xml</td>\n",
       "      <td>1d02c267e787b0c97ef9a3fb3b63da33e8f3c6d9</td>\n",
       "      <td>1d02c267e787b0c97ef9a3fb3b63da33e8f3c6d9</td>\n",
       "      <td>+org.apache.ant:ant\\n+org.apache.ant:ant-junit...</td>\n",
       "      <td>+org.apache.ant:ant\\n+org.apache.ant:ant-junit...</td>\n",
       "      <td>Using Ant 1.7.1 as dependency for woproject-an...</td>\n",
       "      <td>Using Ant 1.7.1 as dependency for woproject-an...</td>\n",
       "      <td>2008-09-06</td>\n",
       "      <td>2008-09-06</td>\n",
       "      <td>0</td>\n",
       "      <td>wocommunity</td>\n",
       "      <td>wolips</td>\n",
       "    </tr>\n",
       "    <tr>\n",
       "      <th>2</th>\n",
       "      <td>2</td>\n",
       "      <td>ant:ant</td>\n",
       "      <td>org.apache.ant:ant</td>\n",
       "      <td>teiid_teiid</td>\n",
       "      <td>pom.xml</td>\n",
       "      <td>204ea9614df7b99c46cc054877c5bea4d145b460</td>\n",
       "      <td>204ea9614df7b99c46cc054877c5bea4d145b460</td>\n",
       "      <td>+org.apache.ant:ant\\n-ant:ant</td>\n",
       "      <td>+org.apache.ant:ant\\n-ant:ant</td>\n",
       "      <td>updating ant groupid\\n</td>\n",
       "      <td>updating ant groupid\\n</td>\n",
       "      <td>2009-01-19</td>\n",
       "      <td>2009-01-19</td>\n",
       "      <td>0</td>\n",
       "      <td>teiid</td>\n",
       "      <td>teiid</td>\n",
       "    </tr>\n",
       "    <tr>\n",
       "      <th>3</th>\n",
       "      <td>3</td>\n",
       "      <td>ant:ant</td>\n",
       "      <td>org.apache.ant:ant</td>\n",
       "      <td>apache_axis2-java</td>\n",
       "      <td>modules/parent/pom.xml</td>\n",
       "      <td>2233b385c9f07b726c11bd5e1e2c00a350622eb3</td>\n",
       "      <td>2233b385c9f07b726c11bd5e1e2c00a350622eb3</td>\n",
       "      <td>+org.apache.ant:ant\\n-ant:ant</td>\n",
       "      <td>+org.apache.ant:ant\\n-ant:ant</td>\n",
       "      <td>fix the group id for latest version of ant\\n\\n...</td>\n",
       "      <td>fix the group id for latest version of ant\\n\\n...</td>\n",
       "      <td>2007-02-05</td>\n",
       "      <td>2007-02-05</td>\n",
       "      <td>0</td>\n",
       "      <td>apache</td>\n",
       "      <td>axis2-java</td>\n",
       "    </tr>\n",
       "    <tr>\n",
       "      <th>4</th>\n",
       "      <td>4</td>\n",
       "      <td>ant:ant</td>\n",
       "      <td>org.apache.ant:ant</td>\n",
       "      <td>apache_axis2-java</td>\n",
       "      <td>modules/tool/axis2-idea-plugin/pom.xml</td>\n",
       "      <td>2233b385c9f07b726c11bd5e1e2c00a350622eb3</td>\n",
       "      <td>2233b385c9f07b726c11bd5e1e2c00a350622eb3</td>\n",
       "      <td>+org.apache.ant:ant\\n-ant:ant</td>\n",
       "      <td>+org.apache.ant:ant\\n-ant:ant</td>\n",
       "      <td>fix the group id for latest version of ant\\n\\n...</td>\n",
       "      <td>fix the group id for latest version of ant\\n\\n...</td>\n",
       "      <td>2007-02-05</td>\n",
       "      <td>2007-02-05</td>\n",
       "      <td>0</td>\n",
       "      <td>apache</td>\n",
       "      <td>axis2-java</td>\n",
       "    </tr>\n",
       "    <tr>\n",
       "      <th>...</th>\n",
       "      <td>...</td>\n",
       "      <td>...</td>\n",
       "      <td>...</td>\n",
       "      <td>...</td>\n",
       "      <td>...</td>\n",
       "      <td>...</td>\n",
       "      <td>...</td>\n",
       "      <td>...</td>\n",
       "      <td>...</td>\n",
       "      <td>...</td>\n",
       "      <td>...</td>\n",
       "      <td>...</td>\n",
       "      <td>...</td>\n",
       "      <td>...</td>\n",
       "      <td>...</td>\n",
       "      <td>...</td>\n",
       "    </tr>\n",
       "    <tr>\n",
       "      <th>14329</th>\n",
       "      <td>14329</td>\n",
       "      <td>xstream:xstream</td>\n",
       "      <td>com.thoughtworks.xstream:xstream</td>\n",
       "      <td>kiegroup_kogito-runtimes</td>\n",
       "      <td>drools-core/pom.xml</td>\n",
       "      <td>ae5bf7e576bce9bc7c1871b323dc81bbded46b55</td>\n",
       "      <td>ae5bf7e576bce9bc7c1871b323dc81bbded46b55</td>\n",
       "      <td>+com.thoughtworks.xstream:xstream\\n-xstream:xs...</td>\n",
       "      <td>+com.thoughtworks.xstream:xstream\\n-xstream:xs...</td>\n",
       "      <td>JBRULES-1128 JBRULES-992: optional dependencie...</td>\n",
       "      <td>JBRULES-1128 JBRULES-992: optional dependencie...</td>\n",
       "      <td>2007-08-25</td>\n",
       "      <td>2007-08-25</td>\n",
       "      <td>30</td>\n",
       "      <td>kiegroup</td>\n",
       "      <td>kogito-runtimes</td>\n",
       "    </tr>\n",
       "    <tr>\n",
       "      <th>14330</th>\n",
       "      <td>14330</td>\n",
       "      <td>xstream:xstream</td>\n",
       "      <td>com.thoughtworks.xstream:xstream</td>\n",
       "      <td>sakaiproject_sakai</td>\n",
       "      <td>gradebook/service/impl/pom.xml</td>\n",
       "      <td>d32f1ecd4a80a1f4b1ccda1763c6d7f0f5462584</td>\n",
       "      <td>d32f1ecd4a80a1f4b1ccda1763c6d7f0f5462584</td>\n",
       "      <td>+com.thoughtworks.xstream:xstream\\n-xstream:xs...</td>\n",
       "      <td>+com.thoughtworks.xstream:xstream\\n-xstream:xs...</td>\n",
       "      <td>Fixed issue with xstream\\n\\n\\ngit-svn-id: http...</td>\n",
       "      <td>Fixed issue with xstream\\n\\n\\ngit-svn-id: http...</td>\n",
       "      <td>2007-01-30</td>\n",
       "      <td>2007-01-30</td>\n",
       "      <td>30</td>\n",
       "      <td>sakaiproject</td>\n",
       "      <td>sakai</td>\n",
       "    </tr>\n",
       "    <tr>\n",
       "      <th>14331</th>\n",
       "      <td>14331</td>\n",
       "      <td>xstream:xstream</td>\n",
       "      <td>com.thoughtworks.xstream:xstream</td>\n",
       "      <td>sakaiproject_sakai</td>\n",
       "      <td>gradebook/service/sakai-pack/pom.xml</td>\n",
       "      <td>d32f1ecd4a80a1f4b1ccda1763c6d7f0f5462584</td>\n",
       "      <td>d32f1ecd4a80a1f4b1ccda1763c6d7f0f5462584</td>\n",
       "      <td>+com.thoughtworks.xstream:xstream\\n-xstream:xs...</td>\n",
       "      <td>+com.thoughtworks.xstream:xstream\\n-xstream:xs...</td>\n",
       "      <td>Fixed issue with xstream\\n\\n\\ngit-svn-id: http...</td>\n",
       "      <td>Fixed issue with xstream\\n\\n\\ngit-svn-id: http...</td>\n",
       "      <td>2007-01-30</td>\n",
       "      <td>2007-01-30</td>\n",
       "      <td>30</td>\n",
       "      <td>sakaiproject</td>\n",
       "      <td>sakai</td>\n",
       "    </tr>\n",
       "    <tr>\n",
       "      <th>14332</th>\n",
       "      <td>14332</td>\n",
       "      <td>xstream:xstream</td>\n",
       "      <td>com.thoughtworks.xstream:xstream</td>\n",
       "      <td>apache_shindig</td>\n",
       "      <td>1.0.x-incubating/java/social-api/pom.xml</td>\n",
       "      <td>f6cabfb61fbbc6a6afbda13b39189c005c681967</td>\n",
       "      <td>f6cabfb61fbbc6a6afbda13b39189c005c681967</td>\n",
       "      <td>+com.thoughtworks.xstream:xstream\\n-xstream:xs...</td>\n",
       "      <td>+com.thoughtworks.xstream:xstream\\n-xstream:xs...</td>\n",
       "      <td>SHINDIG-837 | Patch from Vincent Siveton | Del...</td>\n",
       "      <td>SHINDIG-837 | Patch from Vincent Siveton | Del...</td>\n",
       "      <td>2009-01-12</td>\n",
       "      <td>2009-01-12</td>\n",
       "      <td>30</td>\n",
       "      <td>apache</td>\n",
       "      <td>shindig</td>\n",
       "    </tr>\n",
       "    <tr>\n",
       "      <th>14333</th>\n",
       "      <td>14333</td>\n",
       "      <td>xstream:xstream</td>\n",
       "      <td>com.thoughtworks.xstream:xstream</td>\n",
       "      <td>apache_shindig</td>\n",
       "      <td>1.0.x-incubating/pom.xml</td>\n",
       "      <td>f6cabfb61fbbc6a6afbda13b39189c005c681967</td>\n",
       "      <td>f6cabfb61fbbc6a6afbda13b39189c005c681967</td>\n",
       "      <td>+com.thoughtworks.xstream:xstream\\n-xstream:xs...</td>\n",
       "      <td>+com.thoughtworks.xstream:xstream\\n-xstream:xs...</td>\n",
       "      <td>SHINDIG-837 | Patch from Vincent Siveton | Del...</td>\n",
       "      <td>SHINDIG-837 | Patch from Vincent Siveton | Del...</td>\n",
       "      <td>2009-01-12</td>\n",
       "      <td>2009-01-12</td>\n",
       "      <td>30</td>\n",
       "      <td>apache</td>\n",
       "      <td>shindig</td>\n",
       "    </tr>\n",
       "  </tbody>\n",
       "</table>\n",
       "<p>14334 rows × 16 columns</p>\n",
       "</div>"
      ],
      "text/plain": [
       "          id          fromLib                             toLib  \\\n",
       "0          0          ant:ant                org.apache.ant:ant   \n",
       "1          1          ant:ant                org.apache.ant:ant   \n",
       "2          2          ant:ant                org.apache.ant:ant   \n",
       "3          3          ant:ant                org.apache.ant:ant   \n",
       "4          4          ant:ant                org.apache.ant:ant   \n",
       "...      ...              ...                               ...   \n",
       "14329  14329  xstream:xstream  com.thoughtworks.xstream:xstream   \n",
       "14330  14330  xstream:xstream  com.thoughtworks.xstream:xstream   \n",
       "14331  14331  xstream:xstream  com.thoughtworks.xstream:xstream   \n",
       "14332  14332  xstream:xstream  com.thoughtworks.xstream:xstream   \n",
       "14333  14333  xstream:xstream  com.thoughtworks.xstream:xstream   \n",
       "\n",
       "                       repoName                                  fileName  \\\n",
       "0           bobmcwhirter_drools                                   pom.xml   \n",
       "1            wocommunity_wolips               woproject-ant-tasks/pom.xml   \n",
       "2                   teiid_teiid                                   pom.xml   \n",
       "3             apache_axis2-java                    modules/parent/pom.xml   \n",
       "4             apache_axis2-java    modules/tool/axis2-idea-plugin/pom.xml   \n",
       "...                         ...                                       ...   \n",
       "14329  kiegroup_kogito-runtimes                       drools-core/pom.xml   \n",
       "14330        sakaiproject_sakai            gradebook/service/impl/pom.xml   \n",
       "14331        sakaiproject_sakai      gradebook/service/sakai-pack/pom.xml   \n",
       "14332            apache_shindig  1.0.x-incubating/java/social-api/pom.xml   \n",
       "14333            apache_shindig                  1.0.x-incubating/pom.xml   \n",
       "\n",
       "                                    startCommit  \\\n",
       "0      0504ef4b2349dd7edc4d4991d29f688dc15da939   \n",
       "1      1d02c267e787b0c97ef9a3fb3b63da33e8f3c6d9   \n",
       "2      204ea9614df7b99c46cc054877c5bea4d145b460   \n",
       "3      2233b385c9f07b726c11bd5e1e2c00a350622eb3   \n",
       "4      2233b385c9f07b726c11bd5e1e2c00a350622eb3   \n",
       "...                                         ...   \n",
       "14329  ae5bf7e576bce9bc7c1871b323dc81bbded46b55   \n",
       "14330  d32f1ecd4a80a1f4b1ccda1763c6d7f0f5462584   \n",
       "14331  d32f1ecd4a80a1f4b1ccda1763c6d7f0f5462584   \n",
       "14332  f6cabfb61fbbc6a6afbda13b39189c005c681967   \n",
       "14333  f6cabfb61fbbc6a6afbda13b39189c005c681967   \n",
       "\n",
       "                                      endCommit  \\\n",
       "0      0504ef4b2349dd7edc4d4991d29f688dc15da939   \n",
       "1      1d02c267e787b0c97ef9a3fb3b63da33e8f3c6d9   \n",
       "2      204ea9614df7b99c46cc054877c5bea4d145b460   \n",
       "3      2233b385c9f07b726c11bd5e1e2c00a350622eb3   \n",
       "4      2233b385c9f07b726c11bd5e1e2c00a350622eb3   \n",
       "...                                         ...   \n",
       "14329  ae5bf7e576bce9bc7c1871b323dc81bbded46b55   \n",
       "14330  d32f1ecd4a80a1f4b1ccda1763c6d7f0f5462584   \n",
       "14331  d32f1ecd4a80a1f4b1ccda1763c6d7f0f5462584   \n",
       "14332  f6cabfb61fbbc6a6afbda13b39189c005c681967   \n",
       "14333  f6cabfb61fbbc6a6afbda13b39189c005c681967   \n",
       "\n",
       "                                      startCommitChanges  \\\n",
       "0      +org.apache.ant:ant\\n+org.apache.ant:ant-apach...   \n",
       "1      +org.apache.ant:ant\\n+org.apache.ant:ant-junit...   \n",
       "2                          +org.apache.ant:ant\\n-ant:ant   \n",
       "3                          +org.apache.ant:ant\\n-ant:ant   \n",
       "4                          +org.apache.ant:ant\\n-ant:ant   \n",
       "...                                                  ...   \n",
       "14329  +com.thoughtworks.xstream:xstream\\n-xstream:xs...   \n",
       "14330  +com.thoughtworks.xstream:xstream\\n-xstream:xs...   \n",
       "14331  +com.thoughtworks.xstream:xstream\\n-xstream:xs...   \n",
       "14332  +com.thoughtworks.xstream:xstream\\n-xstream:xs...   \n",
       "14333  +com.thoughtworks.xstream:xstream\\n-xstream:xs...   \n",
       "\n",
       "                                        endCommitChanges  \\\n",
       "0      +org.apache.ant:ant\\n+org.apache.ant:ant-apach...   \n",
       "1      +org.apache.ant:ant\\n+org.apache.ant:ant-junit...   \n",
       "2                          +org.apache.ant:ant\\n-ant:ant   \n",
       "3                          +org.apache.ant:ant\\n-ant:ant   \n",
       "4                          +org.apache.ant:ant\\n-ant:ant   \n",
       "...                                                  ...   \n",
       "14329  +com.thoughtworks.xstream:xstream\\n-xstream:xs...   \n",
       "14330  +com.thoughtworks.xstream:xstream\\n-xstream:xs...   \n",
       "14331  +com.thoughtworks.xstream:xstream\\n-xstream:xs...   \n",
       "14332  +com.thoughtworks.xstream:xstream\\n-xstream:xs...   \n",
       "14333  +com.thoughtworks.xstream:xstream\\n-xstream:xs...   \n",
       "\n",
       "                                      startCommitMessage  \\\n",
       "0      JBRULES-2737 Build with maven 3 fails on Guvno...   \n",
       "1      Using Ant 1.7.1 as dependency for woproject-an...   \n",
       "2                                 updating ant groupid\\n   \n",
       "3      fix the group id for latest version of ant\\n\\n...   \n",
       "4      fix the group id for latest version of ant\\n\\n...   \n",
       "...                                                  ...   \n",
       "14329  JBRULES-1128 JBRULES-992: optional dependencie...   \n",
       "14330  Fixed issue with xstream\\n\\n\\ngit-svn-id: http...   \n",
       "14331  Fixed issue with xstream\\n\\n\\ngit-svn-id: http...   \n",
       "14332  SHINDIG-837 | Patch from Vincent Siveton | Del...   \n",
       "14333  SHINDIG-837 | Patch from Vincent Siveton | Del...   \n",
       "\n",
       "                                        endCommitMessage startCommitTime  \\\n",
       "0      JBRULES-2737 Build with maven 3 fails on Guvno...      2010-10-20   \n",
       "1      Using Ant 1.7.1 as dependency for woproject-an...      2008-09-06   \n",
       "2                                 updating ant groupid\\n      2009-01-19   \n",
       "3      fix the group id for latest version of ant\\n\\n...      2007-02-05   \n",
       "4      fix the group id for latest version of ant\\n\\n...      2007-02-05   \n",
       "...                                                  ...             ...   \n",
       "14329  JBRULES-1128 JBRULES-992: optional dependencie...      2007-08-25   \n",
       "14330  Fixed issue with xstream\\n\\n\\ngit-svn-id: http...      2007-01-30   \n",
       "14331  Fixed issue with xstream\\n\\n\\ngit-svn-id: http...      2007-01-30   \n",
       "14332  SHINDIG-837 | Patch from Vincent Siveton | Del...      2009-01-12   \n",
       "14333  SHINDIG-837 | Patch from Vincent Siveton | Del...      2009-01-12   \n",
       "\n",
       "      endCommitTime  Category     repoOwner    repoSplitName  \n",
       "0        2010-10-20         0  bobmcwhirter           drools  \n",
       "1        2008-09-06         0   wocommunity           wolips  \n",
       "2        2009-01-19         0         teiid            teiid  \n",
       "3        2007-02-05         0        apache       axis2-java  \n",
       "4        2007-02-05         0        apache       axis2-java  \n",
       "...             ...       ...           ...              ...  \n",
       "14329    2007-08-25        30      kiegroup  kogito-runtimes  \n",
       "14330    2007-01-30        30  sakaiproject            sakai  \n",
       "14331    2007-01-30        30  sakaiproject            sakai  \n",
       "14332    2009-01-12        30        apache          shindig  \n",
       "14333    2009-01-12        30        apache          shindig  \n",
       "\n",
       "[14334 rows x 16 columns]"
      ]
     },
     "execution_count": 4,
     "metadata": {},
     "output_type": "execute_result"
    }
   ],
   "source": [
    "repo_df"
   ]
  },
  {
   "cell_type": "code",
   "execution_count": 3,
   "metadata": {},
   "outputs": [],
   "source": [
    "errors_df: pd.DataFrame = pd.read_parquet(f'{data_prefix}/errors.parquet', engine = 'pyarrow')"
   ]
  },
  {
   "cell_type": "code",
   "execution_count": 6,
   "metadata": {},
   "outputs": [],
   "source": [
    "unique_repos = repo_df['repoName'].unique()"
   ]
  },
  {
   "cell_type": "code",
   "execution_count": 4,
   "metadata": {},
   "outputs": [],
   "source": [
    "unique_repos = errors_df['repoName'].unique()"
   ]
  },
  {
   "cell_type": "code",
   "execution_count": 5,
   "metadata": {},
   "outputs": [
    {
     "data": {
      "text/plain": [
       "278"
      ]
     },
     "execution_count": 5,
     "metadata": {},
     "output_type": "execute_result"
    }
   ],
   "source": [
    "len(unique_repos)"
   ]
  },
  {
   "cell_type": "code",
   "execution_count": 11,
   "metadata": {},
   "outputs": [
    {
     "name": "stderr",
     "output_type": "stream",
     "text": [
      "Checking repositories:   0%|          | 0/278 [00:00<?, ?it/s]"
     ]
    },
    {
     "name": "stdout",
     "output_type": "stream",
     "text": [
      "Error determining main branch for repository at data/repos/apache_axis2-java: Command '['git', '-C', 'data/repos/apache_axis2-java', 'branch', '-r']' returned non-zero exit status 128.\n",
      "No 'main' or 'master' branch found in repository at data/repos/apache_shindig\n",
      "No 'main' or 'master' branch found in repository at data/repos/apache_geronimo\n",
      "No 'main' or 'master' branch found in repository at data/repos/apache_aries\n",
      "No 'main' or 'master' branch found in repository at data/repos/apache_felix\n",
      "No 'main' or 'master' branch found in repository at data/repos/SeleniumHQ_selenium\n"
     ]
    },
    {
     "name": "stderr",
     "output_type": "stream",
     "text": [
      "Checking repositories:   3%|▎         | 8/278 [00:07<04:59,  1.11s/it]"
     ]
    },
    {
     "name": "stdout",
     "output_type": "stream",
     "text": [
      "Error determining main branch for repository at data/repos/Alfresco_community-edition-old: Command '['git', '-C', 'data/repos/Alfresco_community-edition-old', 'branch', '-r']' returned non-zero exit status 128.\n",
      "Error determining main branch for repository at data/repos/maxirosson_jdroid-android: Command '['git', '-C', 'data/repos/maxirosson_jdroid-android', 'branch', '-r']' returned non-zero exit status 128.\n"
     ]
    },
    {
     "name": "stderr",
     "output_type": "stream",
     "text": [
      "Checking repositories:   4%|▍         | 11/278 [00:10<04:53,  1.10s/it]"
     ]
    },
    {
     "name": "stdout",
     "output_type": "stream",
     "text": [
      "Error determining main branch for repository at data/repos/fracturedatlas_ATHENA: Command '['git', '-C', 'data/repos/fracturedatlas_ATHENA', 'branch', '-r']' returned non-zero exit status 128.\n",
      "No 'main' or 'master' branch found in repository at data/repos/apache_cocoon\n",
      "Error determining main branch for repository at data/repos/hsiafan_requests: Command '['git', '-C', 'data/repos/hsiafan_requests', 'branch', '-r']' returned non-zero exit status 128.\n"
     ]
    },
    {
     "name": "stderr",
     "output_type": "stream",
     "text": [
      "Checking repositories:   6%|▋         | 18/278 [00:26<09:23,  2.17s/it]"
     ]
    },
    {
     "name": "stdout",
     "output_type": "stream",
     "text": [
      "Error determining main branch for repository at data/repos/semuxproject_semux: Command '['git', '-C', 'data/repos/semuxproject_semux', 'branch', '-r']' returned non-zero exit status 128.\n",
      "No 'main' or 'master' branch found in repository at data/repos/torodb_server\n",
      "No 'main' or 'master' branch found in repository at data/repos/apache_directmemory\n"
     ]
    },
    {
     "name": "stderr",
     "output_type": "stream",
     "text": [
      "Checking repositories:  10%|▉         | 27/278 [00:46<11:34,  2.77s/it]"
     ]
    },
    {
     "name": "stdout",
     "output_type": "stream",
     "text": [
      "No 'main' or 'master' branch found in repository at data/repos/apache_tomcat-maven-plugin\n"
     ]
    },
    {
     "name": "stderr",
     "output_type": "stream",
     "text": [
      "Checking repositories:  10%|█         | 29/278 [00:49<09:35,  2.31s/it]"
     ]
    },
    {
     "name": "stdout",
     "output_type": "stream",
     "text": [
      "Error determining main branch for repository at data/repos/qwazr_QWAZR: Command '['git', '-C', 'data/repos/qwazr_QWAZR', 'branch', '-r']' returned non-zero exit status 128.\n"
     ]
    },
    {
     "name": "stderr",
     "output_type": "stream",
     "text": [
      "Checking repositories:  12%|█▏        | 32/278 [00:55<09:29,  2.32s/it]"
     ]
    },
    {
     "name": "stdout",
     "output_type": "stream",
     "text": [
      "No 'main' or 'master' branch found in repository at data/repos/apache_dubbo-admin\n",
      "Error determining main branch for repository at data/repos/yangqifang_QuickStart-admin-Cloud: Command '['git', '-C', 'data/repos/yangqifang_QuickStart-admin-Cloud', 'branch', '-r']' returned non-zero exit status 128.\n",
      "Error determining main branch for repository at data/repos/JacksonTu_hdw-dubbo: Command '['git', '-C', 'data/repos/JacksonTu_hdw-dubbo', 'branch', '-r']' returned non-zero exit status 128.\n"
     ]
    },
    {
     "name": "stderr",
     "output_type": "stream",
     "text": [
      "Checking repositories:  13%|█▎        | 36/278 [00:59<06:04,  1.51s/it]"
     ]
    },
    {
     "name": "stdout",
     "output_type": "stream",
     "text": [
      "No 'main' or 'master' branch found in repository at data/repos/apache_dubbo\n"
     ]
    },
    {
     "name": "stderr",
     "output_type": "stream",
     "text": [
      "Checking repositories:  14%|█▎        | 38/278 [01:02<06:12,  1.55s/it]"
     ]
    },
    {
     "name": "stdout",
     "output_type": "stream",
     "text": [
      "Error determining main branch for repository at data/repos/bazaarvoice_ostrich: Command '['git', '-C', 'data/repos/bazaarvoice_ostrich', 'branch', '-r']' returned non-zero exit status 128.\n",
      "No 'main' or 'master' branch found in repository at data/repos/dropwizard_metrics\n",
      "No 'main' or 'master' branch found in repository at data/repos/dswarm_dswarm\n"
     ]
    },
    {
     "name": "stderr",
     "output_type": "stream",
     "text": [
      "Checking repositories:  15%|█▌        | 42/278 [01:06<05:04,  1.29s/it]"
     ]
    },
    {
     "name": "stdout",
     "output_type": "stream",
     "text": [
      "Error determining main branch for repository at data/repos/Talend_components: Command '['git', '-C', 'data/repos/Talend_components', 'branch', '-r']' returned non-zero exit status 128.\n",
      "No 'main' or 'master' branch found in repository at data/repos/neo4j_neo4j\n",
      "Error determining main branch for repository at data/repos/mhlx_mblog: Command '['git', '-C', 'data/repos/mhlx_mblog', 'branch', '-r']' returned non-zero exit status 128.\n"
     ]
    },
    {
     "name": "stderr",
     "output_type": "stream",
     "text": [
      "Checking repositories:  17%|█▋        | 47/278 [01:13<05:34,  1.45s/it]"
     ]
    },
    {
     "name": "stdout",
     "output_type": "stream",
     "text": [
      "Error determining main branch for repository at data/repos/rackerlabs_atlas-lb: Command '['git', '-C', 'data/repos/rackerlabs_atlas-lb', 'branch', '-r']' returned non-zero exit status 128.\n",
      "Error determining main branch for repository at data/repos/att_XACML: Command '['git', '-C', 'data/repos/att_XACML', 'branch', '-r']' returned non-zero exit status 128.\n"
     ]
    },
    {
     "name": "stderr",
     "output_type": "stream",
     "text": [
      "Checking repositories:  18%|█▊        | 50/278 [01:17<05:02,  1.33s/it]"
     ]
    },
    {
     "name": "stdout",
     "output_type": "stream",
     "text": [
      "No 'main' or 'master' branch found in repository at data/repos/Activiti_Activiti\n"
     ]
    },
    {
     "name": "stderr",
     "output_type": "stream",
     "text": [
      "Checking repositories:  19%|█▉        | 53/278 [01:23<06:25,  1.71s/it]"
     ]
    },
    {
     "name": "stdout",
     "output_type": "stream",
     "text": [
      "No 'main' or 'master' branch found in repository at data/repos/joinfaces_joinfaces\n",
      "No 'main' or 'master' branch found in repository at data/repos/jboss-fuse_fabric8\n",
      "No 'main' or 'master' branch found in repository at data/repos/apache_giraph\n",
      "Error determining main branch for repository at data/repos/deeplearning4j_DataVec: Command '['git', '-C', 'data/repos/deeplearning4j_DataVec', 'branch', '-r']' returned non-zero exit status 128.\n"
     ]
    },
    {
     "name": "stderr",
     "output_type": "stream",
     "text": [
      "Checking repositories:  22%|██▏       | 61/278 [01:37<07:24,  2.05s/it]"
     ]
    },
    {
     "name": "stdout",
     "output_type": "stream",
     "text": [
      "No 'main' or 'master' branch found in repository at data/repos/ninjaframework_ninja\n"
     ]
    },
    {
     "name": "stderr",
     "output_type": "stream",
     "text": [
      "Checking repositories:  24%|██▎       | 66/278 [01:51<09:43,  2.75s/it]"
     ]
    },
    {
     "name": "stdout",
     "output_type": "stream",
     "text": [
      "No 'main' or 'master' branch found in repository at data/repos/square_retrofit\n"
     ]
    },
    {
     "name": "stderr",
     "output_type": "stream",
     "text": [
      "Checking repositories:  25%|██▌       | 70/278 [02:03<10:38,  3.07s/it]"
     ]
    },
    {
     "name": "stdout",
     "output_type": "stream",
     "text": [
      "Error determining main branch for repository at data/repos/perfectsense_brightspot-cms: Command '['git', '-C', 'data/repos/perfectsense_brightspot-cms', 'branch', '-r']' returned non-zero exit status 128.\n"
     ]
    },
    {
     "name": "stderr",
     "output_type": "stream",
     "text": [
      "Checking repositories:  26%|██▌       | 72/278 [02:06<08:52,  2.59s/it]"
     ]
    },
    {
     "name": "stdout",
     "output_type": "stream",
     "text": [
      "No 'main' or 'master' branch found in repository at data/repos/syndesisio_syndesis\n",
      "Error determining main branch for repository at data/repos/perfectsense_dari: Command '['git', '-C', 'data/repos/perfectsense_dari', 'branch', '-r']' returned non-zero exit status 128.\n",
      "No 'main' or 'master' branch found in repository at data/repos/bonitasoft_bonita-engine\n"
     ]
    },
    {
     "name": "stderr",
     "output_type": "stream",
     "text": [
      "Checking repositories:  27%|██▋       | 76/278 [02:10<05:39,  1.68s/it]"
     ]
    },
    {
     "name": "stdout",
     "output_type": "stream",
     "text": [
      "Error determining main branch for repository at data/repos/hawkular_hawkular-services: Command '['git', '-C', 'data/repos/hawkular_hawkular-services', 'branch', '-r']' returned non-zero exit status 128.\n"
     ]
    },
    {
     "name": "stderr",
     "output_type": "stream",
     "text": [
      "Checking repositories:  29%|██▉       | 82/278 [02:27<08:48,  2.70s/it]"
     ]
    },
    {
     "name": "stdout",
     "output_type": "stream",
     "text": [
      "Error determining main branch for repository at data/repos/cloudera_search: Command '['git', '-C', 'data/repos/cloudera_search', 'branch', '-r']' returned non-zero exit status 128.\n"
     ]
    },
    {
     "name": "stderr",
     "output_type": "stream",
     "text": [
      "Checking repositories:  31%|███       | 85/278 [02:34<08:19,  2.59s/it]"
     ]
    },
    {
     "name": "stdout",
     "output_type": "stream",
     "text": [
      "Error determining main branch for repository at data/repos/jasonish_jetty-springmvc-thymeleaf-template: Command '['git', '-C', 'data/repos/jasonish_jetty-springmvc-thymeleaf-template', 'branch', '-r']' returned non-zero exit status 128.\n"
     ]
    },
    {
     "name": "stderr",
     "output_type": "stream",
     "text": [
      "Checking repositories:  31%|███▏      | 87/278 [02:37<07:14,  2.28s/it]"
     ]
    },
    {
     "name": "stdout",
     "output_type": "stream",
     "text": [
      "Error determining main branch for repository at data/repos/baomidou_mybatisplus-spring-boot: Command '['git', '-C', 'data/repos/baomidou_mybatisplus-spring-boot', 'branch', '-r']' returned non-zero exit status 128.\n",
      "No 'main' or 'master' branch found in repository at data/repos/apache_stanbol\n"
     ]
    },
    {
     "name": "stderr",
     "output_type": "stream",
     "text": [
      "Checking repositories:  33%|███▎      | 91/278 [02:44<06:26,  2.07s/it]"
     ]
    },
    {
     "name": "stdout",
     "output_type": "stream",
     "text": [
      "No 'main' or 'master' branch found in repository at data/repos/apache_jackrabbit-oak\n"
     ]
    },
    {
     "name": "stderr",
     "output_type": "stream",
     "text": [
      "Checking repositories:  34%|███▍      | 94/278 [02:52<07:11,  2.35s/it]"
     ]
    },
    {
     "name": "stdout",
     "output_type": "stream",
     "text": [
      "No 'main' or 'master' branch found in repository at data/repos/Intel-bigdata_SSM\n"
     ]
    },
    {
     "name": "stderr",
     "output_type": "stream",
     "text": [
      "Checking repositories:  35%|███▍      | 97/278 [02:59<07:11,  2.38s/it]"
     ]
    },
    {
     "name": "stdout",
     "output_type": "stream",
     "text": [
      "No 'main' or 'master' branch found in repository at data/repos/jogetworkflow_jw-community\n",
      "No 'main' or 'master' branch found in repository at data/repos/apache_manifoldcf\n",
      "Error determining main branch for repository at data/repos/Talend_data-prep: Command '['git', '-C', 'data/repos/Talend_data-prep', 'branch', '-r']' returned non-zero exit status 128.\n"
     ]
    },
    {
     "name": "stderr",
     "output_type": "stream",
     "text": [
      "Checking repositories:  36%|███▋      | 101/278 [03:03<04:56,  1.68s/it]"
     ]
    },
    {
     "name": "stdout",
     "output_type": "stream",
     "text": [
      "Error determining main branch for repository at data/repos/cloudera_sentry: Command '['git', '-C', 'data/repos/cloudera_sentry', 'branch', '-r']' returned non-zero exit status 128.\n"
     ]
    },
    {
     "name": "stderr",
     "output_type": "stream",
     "text": [
      "Checking repositories:  37%|███▋      | 103/278 [03:06<04:52,  1.67s/it]"
     ]
    },
    {
     "name": "stdout",
     "output_type": "stream",
     "text": [
      "No 'main' or 'master' branch found in repository at data/repos/uwolfer_gerrit-intellij-plugin\n"
     ]
    },
    {
     "name": "stderr",
     "output_type": "stream",
     "text": [
      "Checking repositories:  39%|███▉      | 109/278 [03:24<07:46,  2.76s/it]"
     ]
    },
    {
     "name": "stdout",
     "output_type": "stream",
     "text": [
      "No 'main' or 'master' branch found in repository at data/repos/myabc_appfuse\n",
      "No 'main' or 'master' branch found in repository at data/repos/paypal_SeLion\n",
      "No 'main' or 'master' branch found in repository at data/repos/DbMaintain_dbmaintain\n",
      "No 'main' or 'master' branch found in repository at data/repos/europeana_corelib\n"
     ]
    },
    {
     "name": "stderr",
     "output_type": "stream",
     "text": [
      "Checking repositories:  42%|████▏     | 116/278 [03:35<05:55,  2.19s/it]"
     ]
    },
    {
     "name": "stdout",
     "output_type": "stream",
     "text": [
      "No 'main' or 'master' branch found in repository at data/repos/Netcentric_accesscontroltool\n"
     ]
    },
    {
     "name": "stderr",
     "output_type": "stream",
     "text": [
      "Checking repositories:  42%|████▏     | 118/278 [03:38<05:20,  2.01s/it]"
     ]
    },
    {
     "name": "stdout",
     "output_type": "stream",
     "text": [
      "No 'main' or 'master' branch found in repository at data/repos/cloudera_mahout\n"
     ]
    },
    {
     "name": "stderr",
     "output_type": "stream",
     "text": [
      "Checking repositories:  45%|████▍     | 124/278 [03:55<07:20,  2.86s/it]"
     ]
    },
    {
     "name": "stdout",
     "output_type": "stream",
     "text": [
      "No 'main' or 'master' branch found in repository at data/repos/apache_wink\n",
      "No 'main' or 'master' branch found in repository at data/repos/apache_chemistry-opencmis\n",
      "Error determining main branch for repository at data/repos/cloudera_crunch: Command '['git', '-C', 'data/repos/cloudera_crunch', 'branch', '-r']' returned non-zero exit status 128.\n",
      "No 'main' or 'master' branch found in repository at data/repos/apache_servicemix4-features\n",
      "Error determining main branch for repository at data/repos/apache_wss4j: Command '['git', '-C', 'data/repos/apache_wss4j', 'branch', '-r']' returned non-zero exit status 128.\n",
      "Error determining main branch for repository at data/repos/xap_xap: Command '['git', '-C', 'data/repos/xap_xap', 'branch', '-r']' returned non-zero exit status 128.\n",
      "No 'main' or 'master' branch found in repository at data/repos/apache_activemq-apollo\n",
      "No 'main' or 'master' branch found in repository at data/repos/apache_ftpserver\n",
      "No 'main' or 'master' branch found in repository at data/repos/apache_tiles\n"
     ]
    },
    {
     "name": "stderr",
     "output_type": "stream",
     "text": [
      "Checking repositories:  49%|████▉     | 137/278 [04:09<04:12,  1.79s/it]"
     ]
    },
    {
     "name": "stdout",
     "output_type": "stream",
     "text": [
      "No 'main' or 'master' branch found in repository at data/repos/intendia-oss_rxjava-gwt\n",
      "Error determining main branch for repository at data/repos/liuyadu_open-cloud: Command '['git', '-C', 'data/repos/liuyadu_open-cloud', 'branch', '-r']' returned non-zero exit status 128.\n"
     ]
    },
    {
     "name": "stderr",
     "output_type": "stream",
     "text": [
      "Checking repositories:  51%|█████▏    | 143/278 [04:23<05:32,  2.47s/it]"
     ]
    },
    {
     "name": "stdout",
     "output_type": "stream",
     "text": [
      "No 'main' or 'master' branch found in repository at data/repos/eclipse-ee4j_jersey\n"
     ]
    },
    {
     "name": "stderr",
     "output_type": "stream",
     "text": [
      "Checking repositories:  53%|█████▎    | 146/278 [04:30<05:16,  2.40s/it]"
     ]
    },
    {
     "name": "stdout",
     "output_type": "stream",
     "text": [
      "No 'main' or 'master' branch found in repository at data/repos/looly_hutool\n",
      "Error determining main branch for repository at data/repos/yonyou-iuap_iuap-pap-baseservice: Command '['git', '-C', 'data/repos/yonyou-iuap_iuap-pap-baseservice', 'branch', '-r']' returned non-zero exit status 128.\n"
     ]
    },
    {
     "name": "stderr",
     "output_type": "stream",
     "text": [
      "Checking repositories:  54%|█████▎    | 149/278 [04:34<03:54,  1.82s/it]"
     ]
    },
    {
     "name": "stdout",
     "output_type": "stream",
     "text": [
      "No 'main' or 'master' branch found in repository at data/repos/sdl_dxa-web-application-java\n"
     ]
    },
    {
     "name": "stderr",
     "output_type": "stream",
     "text": [
      "Checking repositories:  55%|█████▌    | 154/278 [04:47<05:15,  2.55s/it]"
     ]
    },
    {
     "name": "stdout",
     "output_type": "stream",
     "text": [
      "No 'main' or 'master' branch found in repository at data/repos/sialcasa_mvvmFX\n",
      "No 'main' or 'master' branch found in repository at data/repos/neo4j_neo4j-java-driver\n"
     ]
    },
    {
     "name": "stderr",
     "output_type": "stream",
     "text": [
      "Checking repositories:  58%|█████▊    | 160/278 [05:00<05:06,  2.60s/it]"
     ]
    },
    {
     "name": "stdout",
     "output_type": "stream",
     "text": [
      "Error determining main branch for repository at data/repos/jcustenborder_kafka-connect-cdc: Command '['git', '-C', 'data/repos/jcustenborder_kafka-connect-cdc', 'branch', '-r']' returned non-zero exit status 128.\n",
      "Error determining main branch for repository at data/repos/automenta_narchy: Command '['git', '-C', 'data/repos/automenta_narchy', 'branch', '-r']' returned non-zero exit status 128.\n",
      "No 'main' or 'master' branch found in repository at data/repos/AlmasB_FXGL\n",
      "Error determining main branch for repository at data/repos/Mercateo_factcast: Command '['git', '-C', 'data/repos/Mercateo_factcast', 'branch', '-r']' returned non-zero exit status 128.\n",
      "No 'main' or 'master' branch found in repository at data/repos/Johnnei_JavaTorrent\n",
      "Error determining main branch for repository at data/repos/cscannerio_opensource: Command '['git', '-C', 'data/repos/cscannerio_opensource', 'branch', '-r']' returned non-zero exit status 128.\n"
     ]
    },
    {
     "name": "stderr",
     "output_type": "stream",
     "text": [
      "Checking repositories:  60%|██████    | 167/278 [05:04<02:07,  1.14s/it]"
     ]
    },
    {
     "name": "stdout",
     "output_type": "stream",
     "text": [
      "No 'main' or 'master' branch found in repository at data/repos/apache_sqoop\n"
     ]
    },
    {
     "name": "stderr",
     "output_type": "stream",
     "text": [
      "Checking repositories:  61%|██████    | 170/278 [05:11<02:55,  1.62s/it]"
     ]
    },
    {
     "name": "stdout",
     "output_type": "stream",
     "text": [
      "No 'main' or 'master' branch found in repository at data/repos/cloudera_sqoop2\n"
     ]
    },
    {
     "name": "stderr",
     "output_type": "stream",
     "text": [
      "Checking repositories:  63%|██████▎   | 175/278 [05:25<04:12,  2.45s/it]"
     ]
    },
    {
     "name": "stdout",
     "output_type": "stream",
     "text": [
      "Error determining main branch for repository at data/repos/Berico-Technologies_CLAVIN: Command '['git', '-C', 'data/repos/Berico-Technologies_CLAVIN', 'branch', '-r']' returned non-zero exit status 128.\n"
     ]
    },
    {
     "name": "stderr",
     "output_type": "stream",
     "text": [
      "Checking repositories:  64%|██████▎   | 177/278 [05:28<03:36,  2.15s/it]"
     ]
    },
    {
     "name": "stdout",
     "output_type": "stream",
     "text": [
      "No 'main' or 'master' branch found in repository at data/repos/pnowy_NativeCriteria\n"
     ]
    },
    {
     "name": "stderr",
     "output_type": "stream",
     "text": [
      "Checking repositories:  64%|██████▍   | 179/278 [05:31<03:16,  1.98s/it]"
     ]
    },
    {
     "name": "stdout",
     "output_type": "stream",
     "text": [
      "Error determining main branch for repository at data/repos/boundlessgeo_GeoGig: Command '['git', '-C', 'data/repos/boundlessgeo_GeoGig', 'branch', '-r']' returned non-zero exit status 128.\n"
     ]
    },
    {
     "name": "stderr",
     "output_type": "stream",
     "text": [
      "Checking repositories:  65%|██████▌   | 182/278 [05:38<03:25,  2.14s/it]"
     ]
    },
    {
     "name": "stdout",
     "output_type": "stream",
     "text": [
      "Error determining main branch for repository at data/repos/apache_webservices-axiom: Command '['git', '-C', 'data/repos/apache_webservices-axiom', 'branch', '-r']' returned non-zero exit status 128.\n",
      "No 'main' or 'master' branch found in repository at data/repos/apache_flume\n",
      "Error determining main branch for repository at data/repos/cloudera_flume-ng: Command '['git', '-C', 'data/repos/cloudera_flume-ng', 'branch', '-r']' returned non-zero exit status 128.\n",
      "No 'main' or 'master' branch found in repository at data/repos/apache_maven-2\n"
     ]
    },
    {
     "name": "stderr",
     "output_type": "stream",
     "text": [
      "Checking repositories:  67%|██████▋   | 187/278 [05:41<01:59,  1.31s/it]"
     ]
    },
    {
     "name": "stdout",
     "output_type": "stream",
     "text": [
      "No 'main' or 'master' branch found in repository at data/repos/CONNECT-Solution_CONNECT\n"
     ]
    },
    {
     "name": "stderr",
     "output_type": "stream",
     "text": [
      "Checking repositories:  68%|██████▊   | 189/278 [05:45<02:03,  1.39s/it]"
     ]
    },
    {
     "name": "stdout",
     "output_type": "stream",
     "text": [
      "No 'main' or 'master' branch found in repository at data/repos/apache_qpid\n"
     ]
    },
    {
     "name": "stderr",
     "output_type": "stream",
     "text": [
      "Checking repositories:  69%|██████▊   | 191/278 [05:48<02:06,  1.45s/it]"
     ]
    },
    {
     "name": "stdout",
     "output_type": "stream",
     "text": [
      "No 'main' or 'master' branch found in repository at data/repos/apache_jackrabbit\n"
     ]
    },
    {
     "name": "stderr",
     "output_type": "stream",
     "text": [
      "Checking repositories:  69%|██████▉   | 193/278 [05:51<02:07,  1.50s/it]"
     ]
    },
    {
     "name": "stdout",
     "output_type": "stream",
     "text": [
      "No 'main' or 'master' branch found in repository at data/repos/datastax_java-driver\n"
     ]
    },
    {
     "name": "stderr",
     "output_type": "stream",
     "text": [
      "Checking repositories:  71%|███████   | 196/278 [05:58<02:30,  1.84s/it]"
     ]
    },
    {
     "name": "stdout",
     "output_type": "stream",
     "text": [
      "No 'main' or 'master' branch found in repository at data/repos/owlcs_owlapi\n",
      "No 'main' or 'master' branch found in repository at data/repos/IBMStreams_streamsx.messaging\n"
     ]
    },
    {
     "name": "stderr",
     "output_type": "stream",
     "text": [
      "Checking repositories:  72%|███████▏  | 199/278 [06:01<02:00,  1.53s/it]"
     ]
    },
    {
     "name": "stdout",
     "output_type": "stream",
     "text": [
      "No 'main' or 'master' branch found in repository at data/repos/pxb1988_dex2jar\n"
     ]
    },
    {
     "name": "stderr",
     "output_type": "stream",
     "text": [
      "Checking repositories:  73%|███████▎  | 203/278 [06:11<02:45,  2.21s/it]"
     ]
    },
    {
     "name": "stdout",
     "output_type": "stream",
     "text": [
      "No 'main' or 'master' branch found in repository at data/repos/apache_ambari\n",
      "No 'main' or 'master' branch found in repository at data/repos/data-integrations_wrangler\n"
     ]
    },
    {
     "name": "stderr",
     "output_type": "stream",
     "text": [
      "Checking repositories:  74%|███████▍  | 206/278 [06:15<02:07,  1.78s/it]"
     ]
    },
    {
     "name": "stdout",
     "output_type": "stream",
     "text": [
      "Error determining main branch for repository at data/repos/hotelbeds-sdk_hotel-api-sdk-java: Command '['git', '-C', 'data/repos/hotelbeds-sdk_hotel-api-sdk-java', 'branch', '-r']' returned non-zero exit status 128.\n"
     ]
    },
    {
     "name": "stderr",
     "output_type": "stream",
     "text": [
      "Checking repositories:  75%|███████▍  | 208/278 [06:18<02:01,  1.73s/it]"
     ]
    },
    {
     "name": "stdout",
     "output_type": "stream",
     "text": [
      "Error determining main branch for repository at data/repos/Talend_data-quality: Command '['git', '-C', 'data/repos/Talend_data-quality', 'branch', '-r']' returned non-zero exit status 128.\n"
     ]
    },
    {
     "name": "stderr",
     "output_type": "stream",
     "text": [
      "Checking repositories:  76%|███████▌  | 211/278 [06:25<02:13,  1.99s/it]"
     ]
    },
    {
     "name": "stdout",
     "output_type": "stream",
     "text": [
      "No 'main' or 'master' branch found in repository at data/repos/cdapio_cdap\n"
     ]
    },
    {
     "name": "stderr",
     "output_type": "stream",
     "text": [
      "Checking repositories:  78%|███████▊  | 217/278 [06:43<02:54,  2.87s/it]"
     ]
    },
    {
     "name": "stdout",
     "output_type": "stream",
     "text": [
      "Error determining main branch for repository at data/repos/evrythng_evrythng-java-sdk: Command '['git', '-C', 'data/repos/evrythng_evrythng-java-sdk', 'branch', '-r']' returned non-zero exit status 128.\n",
      "No 'main' or 'master' branch found in repository at data/repos/apache_oltu\n"
     ]
    },
    {
     "name": "stderr",
     "output_type": "stream",
     "text": [
      "Checking repositories:  79%|███████▉  | 220/278 [06:46<01:55,  1.99s/it]"
     ]
    },
    {
     "name": "stdout",
     "output_type": "stream",
     "text": [
      "Error determining main branch for repository at data/repos/Talend_tesb-rt-se: Command '['git', '-C', 'data/repos/Talend_tesb-rt-se', 'branch', '-r']' returned non-zero exit status 128.\n"
     ]
    },
    {
     "name": "stderr",
     "output_type": "stream",
     "text": [
      "Checking repositories:  80%|███████▉  | 222/278 [06:50<01:47,  1.91s/it]"
     ]
    },
    {
     "name": "stdout",
     "output_type": "stream",
     "text": [
      "Error determining main branch for repository at data/repos/pveentjer_Hazelblast: Command '['git', '-C', 'data/repos/pveentjer_Hazelblast', 'branch', '-r']' returned non-zero exit status 128.\n",
      "No 'main' or 'master' branch found in repository at data/repos/apache_mina\n"
     ]
    },
    {
     "name": "stderr",
     "output_type": "stream",
     "text": [
      "Checking repositories:  81%|████████▏ | 226/278 [06:56<01:37,  1.88s/it]"
     ]
    },
    {
     "name": "stdout",
     "output_type": "stream",
     "text": [
      "Error determining main branch for repository at data/repos/dianping_pigeon: Command '['git', '-C', 'data/repos/dianping_pigeon', 'branch', '-r']' returned non-zero exit status 128.\n",
      "No 'main' or 'master' branch found in repository at data/repos/jooby-project_jooby\n",
      "No 'main' or 'master' branch found in repository at data/repos/dadoonet_legacy-search\n",
      "Error determining main branch for repository at data/repos/syhily_gossip: Command '['git', '-C', 'data/repos/syhily_gossip', 'branch', '-r']' returned non-zero exit status 128.\n",
      "Error determining main branch for repository at data/repos/automatictester_lightning: Command '['git', '-C', 'data/repos/automatictester_lightning', 'branch', '-r']' returned non-zero exit status 128.\n",
      "No 'main' or 'master' branch found in repository at data/repos/tylanbin_platform-ng\n"
     ]
    },
    {
     "name": "stderr",
     "output_type": "stream",
     "text": [
      "Checking repositories:  84%|████████▍ | 233/278 [07:00<00:44,  1.00it/s]"
     ]
    },
    {
     "name": "stdout",
     "output_type": "stream",
     "text": [
      "No 'main' or 'master' branch found in repository at data/repos/jboss-developer_jboss-jdg-quickstarts\n",
      "No 'main' or 'master' branch found in repository at data/repos/ekoontz_hadoop-common\n",
      "Error determining main branch for repository at data/repos/adaikiss_xun: Command '['git', '-C', 'data/repos/adaikiss_xun', 'branch', '-r']' returned non-zero exit status 128.\n",
      "No 'main' or 'master' branch found in repository at data/repos/apache_hadoop-common\n",
      "Error determining main branch for repository at data/repos/klose911_payment: Command '['git', '-C', 'data/repos/klose911_payment', 'branch', '-r']' returned non-zero exit status 128.\n"
     ]
    },
    {
     "name": "stderr",
     "output_type": "stream",
     "text": [
      "Checking repositories:  86%|████████▌ | 239/278 [07:03<00:31,  1.24it/s]"
     ]
    },
    {
     "name": "stdout",
     "output_type": "stream",
     "text": [
      "Error determining main branch for repository at data/repos/Dytanic_CloudNet: Command '['git', '-C', 'data/repos/Dytanic_CloudNet', 'branch', '-r']' returned non-zero exit status 128.\n"
     ]
    },
    {
     "name": "stderr",
     "output_type": "stream",
     "text": [
      "Checking repositories:  87%|████████▋ | 242/278 [07:10<00:43,  1.21s/it]"
     ]
    },
    {
     "name": "stdout",
     "output_type": "stream",
     "text": [
      "No 'main' or 'master' branch found in repository at data/repos/headwirecom_peregrine-cms\n",
      "No 'main' or 'master' branch found in repository at data/repos/apache_plc4x\n"
     ]
    },
    {
     "name": "stderr",
     "output_type": "stream",
     "text": [
      "Checking repositories:  88%|████████▊ | 245/278 [07:13<00:38,  1.17s/it]"
     ]
    },
    {
     "name": "stdout",
     "output_type": "stream",
     "text": [
      "No 'main' or 'master' branch found in repository at data/repos/powermock_powermock\n",
      "Error determining main branch for repository at data/repos/boundlessgeo_suite: Command '['git', '-C', 'data/repos/boundlessgeo_suite', 'branch', '-r']' returned non-zero exit status 128.\n",
      "No 'main' or 'master' branch found in repository at data/repos/terrier-org_terrier-core\n",
      "Error determining main branch for repository at data/repos/jabox_jabox: Command '['git', '-C', 'data/repos/jabox_jabox', 'branch', '-r']' returned non-zero exit status 128.\n"
     ]
    },
    {
     "name": "stderr",
     "output_type": "stream",
     "text": [
      "Checking repositories:  90%|████████▉ | 250/278 [07:16<00:26,  1.05it/s]"
     ]
    },
    {
     "name": "stdout",
     "output_type": "stream",
     "text": [
      "Error determining main branch for repository at data/repos/wuyc_xpress: Command '['git', '-C', 'data/repos/wuyc_xpress', 'branch', '-r']' returned non-zero exit status 128.\n",
      "Error determining main branch for repository at data/repos/lattebank_rate-limiter: Command '['git', '-C', 'data/repos/lattebank_rate-limiter', 'branch', '-r']' returned non-zero exit status 128.\n",
      "No 'main' or 'master' branch found in repository at data/repos/liquigraph_liquigraph\n"
     ]
    },
    {
     "name": "stderr",
     "output_type": "stream",
     "text": [
      "Checking repositories:  92%|█████████▏| 256/278 [07:26<00:31,  1.44s/it]"
     ]
    },
    {
     "name": "stdout",
     "output_type": "stream",
     "text": [
      "Error determining main branch for repository at data/repos/yqbjtu_KafkaTutorials: Command '['git', '-C', 'data/repos/yqbjtu_KafkaTutorials', 'branch', '-r']' returned non-zero exit status 128.\n"
     ]
    },
    {
     "name": "stderr",
     "output_type": "stream",
     "text": [
      "Checking repositories:  93%|█████████▎| 259/278 [07:33<00:33,  1.78s/it]"
     ]
    },
    {
     "name": "stdout",
     "output_type": "stream",
     "text": [
      "No 'main' or 'master' branch found in repository at data/repos/jboss-developer_jboss-brms-quickstarts\n"
     ]
    },
    {
     "name": "stderr",
     "output_type": "stream",
     "text": [
      "Checking repositories:  95%|█████████▍| 263/278 [07:42<00:34,  2.29s/it]"
     ]
    },
    {
     "name": "stdout",
     "output_type": "stream",
     "text": [
      "Error determining main branch for repository at data/repos/PocketServer_PocketServer-Ref: Command '['git', '-C', 'data/repos/PocketServer_PocketServer-Ref', 'branch', '-r']' returned non-zero exit status 128.\n"
     ]
    },
    {
     "name": "stderr",
     "output_type": "stream",
     "text": [
      "Checking repositories:  96%|█████████▋| 268/278 [07:56<00:27,  2.73s/it]"
     ]
    },
    {
     "name": "stdout",
     "output_type": "stream",
     "text": [
      "Error determining main branch for repository at data/repos/shopping24_geoip-api: Command '['git', '-C', 'data/repos/shopping24_geoip-api', 'branch', '-r']' returned non-zero exit status 128.\n"
     ]
    },
    {
     "name": "stderr",
     "output_type": "stream",
     "text": [
      "Checking repositories:  97%|█████████▋| 270/278 [07:59<00:18,  2.27s/it]"
     ]
    },
    {
     "name": "stdout",
     "output_type": "stream",
     "text": [
      "Error determining main branch for repository at data/repos/yahoojapan_multiple-dimension-spread: Command '['git', '-C', 'data/repos/yahoojapan_multiple-dimension-spread', 'branch', '-r']' returned non-zero exit status 128.\n"
     ]
    },
    {
     "name": "stderr",
     "output_type": "stream",
     "text": [
      "Checking repositories:  98%|█████████▊| 272/278 [08:02<00:12,  2.05s/it]"
     ]
    },
    {
     "name": "stdout",
     "output_type": "stream",
     "text": [
      "Error determining main branch for repository at data/repos/aipocom_aipo: Command '['git', '-C', 'data/repos/aipocom_aipo', 'branch', '-r']' returned non-zero exit status 128.\n"
     ]
    },
    {
     "name": "stderr",
     "output_type": "stream",
     "text": [
      "Checking repositories:  99%|█████████▊| 274/278 [08:06<00:07,  1.91s/it]"
     ]
    },
    {
     "name": "stdout",
     "output_type": "stream",
     "text": [
      "Error determining main branch for repository at data/repos/eclipse_rt.equinox.framework: Command '['git', '-C', 'data/repos/eclipse_rt.equinox.framework', 'branch', '-r']' returned non-zero exit status 128.\n",
      "No 'main' or 'master' branch found in repository at data/repos/apache_abdera\n",
      "No 'main' or 'master' branch found in repository at data/repos/apache_ace\n"
     ]
    },
    {
     "name": "stderr",
     "output_type": "stream",
     "text": [
      "Checking repositories: 100%|██████████| 278/278 [08:10<00:00,  1.76s/it]\n"
     ]
    }
   ],
   "source": [
    "check_dict: Dict[int, Dict[str, Any]] = {}\n",
    "\n",
    "def get_main_branch(repo_path: str) -> Optional[str]:\n",
    "    \"\"\"\n",
    "    Determines the main branch of a Git repository (either 'main' or 'master').\n",
    "\n",
    "    :param repo_path: Path to the local Git repository.\n",
    "    :return: The name of the main branch ('main' or 'master') if found, or None if neither exists.\n",
    "    \"\"\"\n",
    "    try:\n",
    "        # Get remote branches and search for 'origin/main' or 'origin/master'\n",
    "        result = subprocess.run(\n",
    "            [\"git\", \"-C\", repo_path, \"branch\", \"-r\"],\n",
    "            capture_output=True,\n",
    "            text=True,\n",
    "            check=True\n",
    "        )\n",
    "        branches = result.stdout.splitlines()\n",
    "        for branch in branches:\n",
    "            if \"origin/main\" in branch:\n",
    "                return \"main\"\n",
    "            elif \"origin/master\" in branch:\n",
    "                return \"master\"\n",
    "\n",
    "        print(f\"No 'main' or 'master' branch found in repository at {repo_path}\")\n",
    "        return None\n",
    "\n",
    "    except subprocess.CalledProcessError as e:\n",
    "        print(f\"Error determining main branch for repository at {repo_path}: {e}\")\n",
    "        return None\n",
    "\n",
    "def is_repo_up_to_date(repo_path: str, branch: str) -> Tuple[bool, str]:\n",
    "    \"\"\"\n",
    "    Checks if the local branch is up-to-date with the specified remote branch.\n",
    "\n",
    "    :param repo_path: Path to the local Git repository.\n",
    "    :param branch: Name of the branch to compare (either 'main' or 'master').\n",
    "    :return: Tuple (True if up-to-date, detailed output for debugging).\n",
    "    \"\"\"\n",
    "    try:\n",
    "        # Fetch latest changes from the remote\n",
    "        subprocess.run([\"git\", \"-C\", repo_path, \"fetch\", \"origin\"], check=True, capture_output=True, text=True)\n",
    "\n",
    "        # Get the latest commit on the local branch\n",
    "        local_commit = subprocess.run(\n",
    "            [\"git\", \"-C\", repo_path, \"rev-parse\", \"HEAD\"],\n",
    "            capture_output=True,\n",
    "            text=True,\n",
    "            check=True\n",
    "        ).stdout.strip()\n",
    "\n",
    "        # Get the latest commit on the remote branch\n",
    "        remote_commit = subprocess.run(\n",
    "            [\"git\", \"-C\", repo_path, \"rev-parse\", f\"origin/{branch}\"],\n",
    "            capture_output=True,\n",
    "            text=True,\n",
    "            check=True\n",
    "        ).stdout.strip()\n",
    "\n",
    "        # Compare commits\n",
    "        is_up_to_date = local_commit == remote_commit\n",
    "        details = f\"Local commit: {local_commit}\\nRemote commit: {remote_commit}\\nBranch: {branch}\"\n",
    "        return is_up_to_date, details\n",
    "\n",
    "    except subprocess.CalledProcessError as e:\n",
    "        return False, f\"Error checking update status for branch '{branch}' in repository at {repo_path}: {e}\"\n",
    "\n",
    "# Process each repository and store results in check_dict\n",
    "for idx, repo_name in tqdm(enumerate(unique_repos), total=len(unique_repos), desc=\"Checking repositories\"):\n",
    "    repo_path = f\"{repo_prefix}/{repo_name}\"\n",
    "    branch = get_main_branch(repo_path)\n",
    "\n",
    "    if branch is None:\n",
    "        check_dict[idx] = {\n",
    "            'repoName': repo_name,\n",
    "            'status': 'unknown',\n",
    "            'details': \"Could not determine main branch (main or master)\"\n",
    "        }\n",
    "        continue\n",
    "\n",
    "    is_up_to_date, details = is_repo_up_to_date(repo_path, branch)\n",
    "    status = 'up-to-date' if is_up_to_date else 'outdated'\n",
    "\n",
    "    check_dict[idx] = {\n",
    "        'repoName': repo_name,\n",
    "        'status': status,\n",
    "        'details': details\n",
    "    }"
   ]
  },
  {
   "cell_type": "code",
   "execution_count": 9,
   "metadata": {},
   "outputs": [],
   "source": [
    "status_df: pd.DataFrame = pd.DataFrame.from_dict(check_dict, orient = 'index')"
   ]
  },
  {
   "cell_type": "code",
   "execution_count": 10,
   "metadata": {},
   "outputs": [
    {
     "data": {
      "text/html": [
       "<div>\n",
       "<style scoped>\n",
       "    .dataframe tbody tr th:only-of-type {\n",
       "        vertical-align: middle;\n",
       "    }\n",
       "\n",
       "    .dataframe tbody tr th {\n",
       "        vertical-align: top;\n",
       "    }\n",
       "\n",
       "    .dataframe thead th {\n",
       "        text-align: right;\n",
       "    }\n",
       "</style>\n",
       "<table border=\"1\" class=\"dataframe\">\n",
       "  <thead>\n",
       "    <tr style=\"text-align: right;\">\n",
       "      <th></th>\n",
       "      <th>repoName</th>\n",
       "      <th>status</th>\n",
       "      <th>details</th>\n",
       "    </tr>\n",
       "  </thead>\n",
       "  <tbody>\n",
       "    <tr>\n",
       "      <th>5</th>\n",
       "      <td>SeleniumHQ_selenium</td>\n",
       "      <td>outdated</td>\n",
       "      <td>Error: Could not determine main or master branch</td>\n",
       "    </tr>\n",
       "    <tr>\n",
       "      <th>0</th>\n",
       "      <td>apache_axis2-java</td>\n",
       "      <td>outdated</td>\n",
       "      <td>Error: Could not determine main or master branch</td>\n",
       "    </tr>\n",
       "    <tr>\n",
       "      <th>8</th>\n",
       "      <td>Alfresco_community-edition-old</td>\n",
       "      <td>outdated</td>\n",
       "      <td>Error: Could not determine main or master branch</td>\n",
       "    </tr>\n",
       "    <tr>\n",
       "      <th>12</th>\n",
       "      <td>apache_cocoon</td>\n",
       "      <td>outdated</td>\n",
       "      <td>Error: Could not determine main or master branch</td>\n",
       "    </tr>\n",
       "    <tr>\n",
       "      <th>2</th>\n",
       "      <td>apache_geronimo</td>\n",
       "      <td>outdated</td>\n",
       "      <td>Error: Could not determine main or master branch</td>\n",
       "    </tr>\n",
       "    <tr>\n",
       "      <th>...</th>\n",
       "      <td>...</td>\n",
       "      <td>...</td>\n",
       "      <td>...</td>\n",
       "    </tr>\n",
       "    <tr>\n",
       "      <th>266</th>\n",
       "      <td>groovy_gmaven</td>\n",
       "      <td>outdated</td>\n",
       "      <td>Local commit: b5fa664ecea354548d039d39e04011a4...</td>\n",
       "    </tr>\n",
       "    <tr>\n",
       "      <th>269</th>\n",
       "      <td>openpnp_openpnp</td>\n",
       "      <td>outdated</td>\n",
       "      <td>Local commit: 5dd12c73972c74a5f3fa1810fc9167ce...</td>\n",
       "    </tr>\n",
       "    <tr>\n",
       "      <th>273</th>\n",
       "      <td>terasolunaorg_terasoluna-tourreservation-mybatis3</td>\n",
       "      <td>outdated</td>\n",
       "      <td>Local commit: a1f3d93f0e1fc36b65ebf461e2ecbde1...</td>\n",
       "    </tr>\n",
       "    <tr>\n",
       "      <th>271</th>\n",
       "      <td>terasolunaorg_terasoluna-tourreservation</td>\n",
       "      <td>outdated</td>\n",
       "      <td>Local commit: ff7979ec5eeb305cf9936d2e0f16ddc7...</td>\n",
       "    </tr>\n",
       "    <tr>\n",
       "      <th>277</th>\n",
       "      <td>veraPDF_veraPDF-library</td>\n",
       "      <td>outdated</td>\n",
       "      <td>Local commit: 31fe8bfe601c46d0d61d88ec097e4a16...</td>\n",
       "    </tr>\n",
       "  </tbody>\n",
       "</table>\n",
       "<p>278 rows × 3 columns</p>\n",
       "</div>"
      ],
      "text/plain": [
       "                                              repoName    status  \\\n",
       "5                                  SeleniumHQ_selenium  outdated   \n",
       "0                                    apache_axis2-java  outdated   \n",
       "8                       Alfresco_community-edition-old  outdated   \n",
       "12                                       apache_cocoon  outdated   \n",
       "2                                      apache_geronimo  outdated   \n",
       "..                                                 ...       ...   \n",
       "266                                      groovy_gmaven  outdated   \n",
       "269                                    openpnp_openpnp  outdated   \n",
       "273  terasolunaorg_terasoluna-tourreservation-mybatis3  outdated   \n",
       "271           terasolunaorg_terasoluna-tourreservation  outdated   \n",
       "277                            veraPDF_veraPDF-library  outdated   \n",
       "\n",
       "                                               details  \n",
       "5     Error: Could not determine main or master branch  \n",
       "0     Error: Could not determine main or master branch  \n",
       "8     Error: Could not determine main or master branch  \n",
       "12    Error: Could not determine main or master branch  \n",
       "2     Error: Could not determine main or master branch  \n",
       "..                                                 ...  \n",
       "266  Local commit: b5fa664ecea354548d039d39e04011a4...  \n",
       "269  Local commit: 5dd12c73972c74a5f3fa1810fc9167ce...  \n",
       "273  Local commit: a1f3d93f0e1fc36b65ebf461e2ecbde1...  \n",
       "271  Local commit: ff7979ec5eeb305cf9936d2e0f16ddc7...  \n",
       "277  Local commit: 31fe8bfe601c46d0d61d88ec097e4a16...  \n",
       "\n",
       "[278 rows x 3 columns]"
      ]
     },
     "execution_count": 10,
     "metadata": {},
     "output_type": "execute_result"
    }
   ],
   "source": [
    "status_df"
   ]
  },
  {
   "cell_type": "code",
   "execution_count": null,
   "metadata": {},
   "outputs": [],
   "source": [
    "for id in range(len(unique_repos)):\n",
    "    print(id, check_dict[id])"
   ]
  },
  {
   "cell_type": "code",
   "execution_count": null,
   "metadata": {},
   "outputs": [],
   "source": [
    "for id in range(len(status_df)):\n",
    "    line = status_df.iloc[id]\n",
    "\n",
    "    if (line['status'] == 'outdated'):\n",
    "        print(id)"
   ]
  },
  {
   "cell_type": "code",
   "execution_count": 25,
   "metadata": {},
   "outputs": [],
   "source": [
    "errors = status_df[status_df['status'] == 'outdated']"
   ]
  },
  {
   "cell_type": "code",
   "execution_count": 26,
   "metadata": {},
   "outputs": [
    {
     "data": {
      "text/html": [
       "<div>\n",
       "<style scoped>\n",
       "    .dataframe tbody tr th:only-of-type {\n",
       "        vertical-align: middle;\n",
       "    }\n",
       "\n",
       "    .dataframe tbody tr th {\n",
       "        vertical-align: top;\n",
       "    }\n",
       "\n",
       "    .dataframe thead th {\n",
       "        text-align: right;\n",
       "    }\n",
       "</style>\n",
       "<table border=\"1\" class=\"dataframe\">\n",
       "  <thead>\n",
       "    <tr style=\"text-align: right;\">\n",
       "      <th></th>\n",
       "      <th>repoName</th>\n",
       "      <th>status</th>\n",
       "      <th>details</th>\n",
       "    </tr>\n",
       "  </thead>\n",
       "  <tbody>\n",
       "    <tr>\n",
       "      <th>0</th>\n",
       "      <td>apache_axis2-java</td>\n",
       "      <td>outdated</td>\n",
       "      <td>/bin/sh: 2: cd: can't cd to ./data/repos/apach...</td>\n",
       "    </tr>\n",
       "    <tr>\n",
       "      <th>4</th>\n",
       "      <td>apache_shindig</td>\n",
       "      <td>outdated</td>\n",
       "      <td>fatal: ambiguous argument 'origin/': unknown r...</td>\n",
       "    </tr>\n",
       "    <tr>\n",
       "      <th>9</th>\n",
       "      <td>apache_geronimo</td>\n",
       "      <td>outdated</td>\n",
       "      <td>fatal: ambiguous argument 'origin/': unknown r...</td>\n",
       "    </tr>\n",
       "    <tr>\n",
       "      <th>11</th>\n",
       "      <td>apache_aries</td>\n",
       "      <td>outdated</td>\n",
       "      <td>fatal: ambiguous argument 'origin/': unknown r...</td>\n",
       "    </tr>\n",
       "    <tr>\n",
       "      <th>8</th>\n",
       "      <td>apache_felix</td>\n",
       "      <td>outdated</td>\n",
       "      <td>fatal: ambiguous argument 'origin/': unknown r...</td>\n",
       "    </tr>\n",
       "    <tr>\n",
       "      <th>...</th>\n",
       "      <td>...</td>\n",
       "      <td>...</td>\n",
       "      <td>...</td>\n",
       "    </tr>\n",
       "    <tr>\n",
       "      <th>350</th>\n",
       "      <td>terasolunaorg_terasoluna-tourreservation-mybatis3</td>\n",
       "      <td>outdated</td>\n",
       "      <td>Local commit: a1f3d93f0e1fc36b65ebf461e2ecbde1...</td>\n",
       "    </tr>\n",
       "    <tr>\n",
       "      <th>351</th>\n",
       "      <td>eclipse_rt.equinox.framework</td>\n",
       "      <td>outdated</td>\n",
       "      <td>/bin/sh: 2: cd: can't cd to ./data/repos/eclip...</td>\n",
       "    </tr>\n",
       "    <tr>\n",
       "      <th>353</th>\n",
       "      <td>apache_abdera</td>\n",
       "      <td>outdated</td>\n",
       "      <td>fatal: ambiguous argument 'origin/': unknown r...</td>\n",
       "    </tr>\n",
       "    <tr>\n",
       "      <th>354</th>\n",
       "      <td>apache_ace</td>\n",
       "      <td>outdated</td>\n",
       "      <td>fatal: ambiguous argument 'origin/': unknown r...</td>\n",
       "    </tr>\n",
       "    <tr>\n",
       "      <th>352</th>\n",
       "      <td>veraPDF_veraPDF-library</td>\n",
       "      <td>outdated</td>\n",
       "      <td>Local commit: 31fe8bfe601c46d0d61d88ec097e4a16...</td>\n",
       "    </tr>\n",
       "  </tbody>\n",
       "</table>\n",
       "<p>278 rows × 3 columns</p>\n",
       "</div>"
      ],
      "text/plain": [
       "                                              repoName    status  \\\n",
       "0                                    apache_axis2-java  outdated   \n",
       "4                                       apache_shindig  outdated   \n",
       "9                                      apache_geronimo  outdated   \n",
       "11                                        apache_aries  outdated   \n",
       "8                                         apache_felix  outdated   \n",
       "..                                                 ...       ...   \n",
       "350  terasolunaorg_terasoluna-tourreservation-mybatis3  outdated   \n",
       "351                       eclipse_rt.equinox.framework  outdated   \n",
       "353                                      apache_abdera  outdated   \n",
       "354                                         apache_ace  outdated   \n",
       "352                            veraPDF_veraPDF-library  outdated   \n",
       "\n",
       "                                               details  \n",
       "0    /bin/sh: 2: cd: can't cd to ./data/repos/apach...  \n",
       "4    fatal: ambiguous argument 'origin/': unknown r...  \n",
       "9    fatal: ambiguous argument 'origin/': unknown r...  \n",
       "11   fatal: ambiguous argument 'origin/': unknown r...  \n",
       "8    fatal: ambiguous argument 'origin/': unknown r...  \n",
       "..                                                 ...  \n",
       "350  Local commit: a1f3d93f0e1fc36b65ebf461e2ecbde1...  \n",
       "351  /bin/sh: 2: cd: can't cd to ./data/repos/eclip...  \n",
       "353  fatal: ambiguous argument 'origin/': unknown r...  \n",
       "354  fatal: ambiguous argument 'origin/': unknown r...  \n",
       "352  Local commit: 31fe8bfe601c46d0d61d88ec097e4a16...  \n",
       "\n",
       "[278 rows x 3 columns]"
      ]
     },
     "execution_count": 26,
     "metadata": {},
     "output_type": "execute_result"
    }
   ],
   "source": [
    "errors"
   ]
  },
  {
   "cell_type": "code",
   "execution_count": 28,
   "metadata": {},
   "outputs": [],
   "source": [
    "errors.to_parquet(f'{data_prefix}/errors.parquet', engine = 'pyarrow')"
   ]
  },
  {
   "cell_type": "code",
   "execution_count": 29,
   "metadata": {},
   "outputs": [
    {
     "data": {
      "text/html": [
       "<div>\n",
       "<style scoped>\n",
       "    .dataframe tbody tr th:only-of-type {\n",
       "        vertical-align: middle;\n",
       "    }\n",
       "\n",
       "    .dataframe tbody tr th {\n",
       "        vertical-align: top;\n",
       "    }\n",
       "\n",
       "    .dataframe thead th {\n",
       "        text-align: right;\n",
       "    }\n",
       "</style>\n",
       "<table border=\"1\" class=\"dataframe\">\n",
       "  <thead>\n",
       "    <tr style=\"text-align: right;\">\n",
       "      <th></th>\n",
       "      <th>repoName</th>\n",
       "      <th>status</th>\n",
       "      <th>details</th>\n",
       "    </tr>\n",
       "  </thead>\n",
       "  <tbody>\n",
       "    <tr>\n",
       "      <th>0</th>\n",
       "      <td>apache_axis2-java</td>\n",
       "      <td>outdated</td>\n",
       "      <td>/bin/sh: 2: cd: can't cd to ./data/repos/apach...</td>\n",
       "    </tr>\n",
       "    <tr>\n",
       "      <th>4</th>\n",
       "      <td>apache_shindig</td>\n",
       "      <td>outdated</td>\n",
       "      <td>fatal: ambiguous argument 'origin/': unknown r...</td>\n",
       "    </tr>\n",
       "    <tr>\n",
       "      <th>9</th>\n",
       "      <td>apache_geronimo</td>\n",
       "      <td>outdated</td>\n",
       "      <td>fatal: ambiguous argument 'origin/': unknown r...</td>\n",
       "    </tr>\n",
       "    <tr>\n",
       "      <th>11</th>\n",
       "      <td>apache_aries</td>\n",
       "      <td>outdated</td>\n",
       "      <td>fatal: ambiguous argument 'origin/': unknown r...</td>\n",
       "    </tr>\n",
       "    <tr>\n",
       "      <th>8</th>\n",
       "      <td>apache_felix</td>\n",
       "      <td>outdated</td>\n",
       "      <td>fatal: ambiguous argument 'origin/': unknown r...</td>\n",
       "    </tr>\n",
       "    <tr>\n",
       "      <th>...</th>\n",
       "      <td>...</td>\n",
       "      <td>...</td>\n",
       "      <td>...</td>\n",
       "    </tr>\n",
       "    <tr>\n",
       "      <th>350</th>\n",
       "      <td>terasolunaorg_terasoluna-tourreservation-mybatis3</td>\n",
       "      <td>outdated</td>\n",
       "      <td>Local commit: a1f3d93f0e1fc36b65ebf461e2ecbde1...</td>\n",
       "    </tr>\n",
       "    <tr>\n",
       "      <th>351</th>\n",
       "      <td>eclipse_rt.equinox.framework</td>\n",
       "      <td>outdated</td>\n",
       "      <td>/bin/sh: 2: cd: can't cd to ./data/repos/eclip...</td>\n",
       "    </tr>\n",
       "    <tr>\n",
       "      <th>353</th>\n",
       "      <td>apache_abdera</td>\n",
       "      <td>outdated</td>\n",
       "      <td>fatal: ambiguous argument 'origin/': unknown r...</td>\n",
       "    </tr>\n",
       "    <tr>\n",
       "      <th>354</th>\n",
       "      <td>apache_ace</td>\n",
       "      <td>outdated</td>\n",
       "      <td>fatal: ambiguous argument 'origin/': unknown r...</td>\n",
       "    </tr>\n",
       "    <tr>\n",
       "      <th>352</th>\n",
       "      <td>veraPDF_veraPDF-library</td>\n",
       "      <td>outdated</td>\n",
       "      <td>Local commit: 31fe8bfe601c46d0d61d88ec097e4a16...</td>\n",
       "    </tr>\n",
       "  </tbody>\n",
       "</table>\n",
       "<p>278 rows × 3 columns</p>\n",
       "</div>"
      ],
      "text/plain": [
       "                                              repoName    status  \\\n",
       "0                                    apache_axis2-java  outdated   \n",
       "4                                       apache_shindig  outdated   \n",
       "9                                      apache_geronimo  outdated   \n",
       "11                                        apache_aries  outdated   \n",
       "8                                         apache_felix  outdated   \n",
       "..                                                 ...       ...   \n",
       "350  terasolunaorg_terasoluna-tourreservation-mybatis3  outdated   \n",
       "351                       eclipse_rt.equinox.framework  outdated   \n",
       "353                                      apache_abdera  outdated   \n",
       "354                                         apache_ace  outdated   \n",
       "352                            veraPDF_veraPDF-library  outdated   \n",
       "\n",
       "                                               details  \n",
       "0    /bin/sh: 2: cd: can't cd to ./data/repos/apach...  \n",
       "4    fatal: ambiguous argument 'origin/': unknown r...  \n",
       "9    fatal: ambiguous argument 'origin/': unknown r...  \n",
       "11   fatal: ambiguous argument 'origin/': unknown r...  \n",
       "8    fatal: ambiguous argument 'origin/': unknown r...  \n",
       "..                                                 ...  \n",
       "350  Local commit: a1f3d93f0e1fc36b65ebf461e2ecbde1...  \n",
       "351  /bin/sh: 2: cd: can't cd to ./data/repos/eclip...  \n",
       "353  fatal: ambiguous argument 'origin/': unknown r...  \n",
       "354  fatal: ambiguous argument 'origin/': unknown r...  \n",
       "352  Local commit: 31fe8bfe601c46d0d61d88ec097e4a16...  \n",
       "\n",
       "[278 rows x 3 columns]"
      ]
     },
     "execution_count": 29,
     "metadata": {},
     "output_type": "execute_result"
    }
   ],
   "source": [
    "errors"
   ]
  },
  {
   "cell_type": "code",
   "execution_count": 32,
   "metadata": {},
   "outputs": [
    {
     "name": "stdout",
     "output_type": "stream",
     "text": [
      "fatal: ambiguous argument 'origin/': unknown revision or path not in the working tree.\n",
      "Use '--' to separate paths from revisions, like this:\n",
      "'git <command> [<revision>...] -- [<file>...]'\n"
     ]
    }
   ],
   "source": [
    "print(errors.iloc[1]['details'])"
   ]
  },
  {
   "cell_type": "code",
   "execution_count": 18,
   "metadata": {},
   "outputs": [
    {
     "name": "stdout",
     "output_type": "stream",
     "text": [
      "rm -rf ./data/repos/apache_axis2-java\n",
      "rm -rf ./data/repos/SeleniumHQ_selenium\n",
      "rm -rf ./data/repos/codehaus-cargo_cargo\n",
      "rm -rf ./data/repos/mulesoft_mule\n",
      "rm -rf ./data/repos/apache_shindig\n",
      "rm -rf ./data/repos/apache_cayenne\n",
      "rm -rf ./data/repos/openl-tablets_openl-tablets\n",
      "rm -rf ./data/repos/apache_cxf\n",
      "rm -rf ./data/repos/apache_felix\n",
      "rm -rf ./data/repos/apache_geronimo\n",
      "rm -rf ./data/repos/nuxeo_nuxeo\n",
      "rm -rf ./data/repos/apache_aries\n",
      "rm -rf ./data/repos/Alfresco_community-edition-old\n",
      "rm -rf ./data/repos/maxirosson_jdroid-android\n",
      "rm -rf ./data/repos/OpenWiseSolutions_openhub-framework\n",
      "rm -rf ./data/repos/OpenNMS_opennms\n",
      "rm -rf ./data/repos/dhis2_dhis2-core\n",
      "rm -rf ./data/repos/apache_cocoon\n",
      "rm -rf ./data/repos/apache_tapestry-5\n",
      "rm -rf ./data/repos/sakaiproject_sakai\n",
      "rm -rf ./data/repos/fracturedatlas_ATHENA\n",
      "rm -rf ./data/repos/apache_flink\n",
      "rm -rf ./data/repos/apache_camel\n",
      "rm -rf ./data/repos/hsiafan_requests\n",
      "rm -rf ./data/repos/semuxproject_semux\n",
      "rm -rf ./data/repos/torodb_server\n",
      "rm -rf ./data/repos/apache_syncope\n",
      "rm -rf ./data/repos/apache_directmemory\n",
      "rm -rf ./data/repos/ronenhamias_scalecube-services\n",
      "rm -rf ./data/repos/dynamicreports_dynamicreports\n",
      "rm -rf ./data/repos/knowm_XChange\n",
      "rm -rf ./data/repos/eclipse_hono\n",
      "rm -rf ./data/repos/proofpoint_platform\n",
      "rm -rf ./data/repos/airlift_airlift\n",
      "rm -rf ./data/repos/smallrye_smallrye-reactive-messaging\n",
      "rm -rf ./data/repos/Qi4j_qi4j-libraries\n",
      "rm -rf ./data/repos/Qi4j_qi4j-sdk\n",
      "rm -rf ./data/repos/societies_SOCIETIES-Platform\n",
      "rm -rf ./data/repos/Waffle_waffle\n",
      "rm -rf ./data/repos/protegeproject_protege\n",
      "rm -rf ./data/repos/apache_tomcat-maven-plugin\n",
      "rm -rf ./data/repos/qwazr_QWAZR\n",
      "rm -rf ./data/repos/alexo_wro4j\n",
      "rm -rf ./data/repos/alibaba_Sentinel\n",
      "rm -rf ./data/repos/a466350665_smart\n",
      "rm -rf ./data/repos/apache_dubbo-admin\n",
      "rm -rf ./data/repos/yangqifang_QuickStart-admin-Cloud\n",
      "rm -rf ./data/repos/codingapi_tx-lcn\n",
      "rm -rf ./data/repos/JacksonTu_hdw-dubbo\n",
      "rm -rf ./data/repos/apache_dubbo\n",
      "rm -rf ./data/repos/lodsve_lodsve-framework\n",
      "rm -rf ./data/repos/JanusGraph_janusgraph\n",
      "rm -rf ./data/repos/bazaarvoice_ostrich\n",
      "rm -rf ./data/repos/spring-projects_spring-boot\n",
      "rm -rf ./data/repos/dropwizard_metrics\n",
      "rm -rf ./data/repos/dswarm_dswarm\n",
      "rm -rf ./data/repos/apache_hadoop\n",
      "rm -rf ./data/repos/neo4j_neo4j\n",
      "rm -rf ./data/repos/opendaylight_controller\n",
      "rm -rf ./data/repos/Graylog2_graylog2-server\n",
      "rm -rf ./data/repos/Talend_components\n",
      "rm -rf ./data/repos/OpenAPITools_openapi-generator\n",
      "rm -rf ./data/repos/dropwizard_dropwizard\n",
      "rm -rf ./data/repos/mhlx_mblog\n",
      "rm -rf ./data/repos/apache_activemq\n",
      "rm -rf ./data/repos/eclipse_hawkbit\n",
      "rm -rf ./data/repos/rackerlabs_atlas-lb\n",
      "rm -rf ./data/repos/oracle_helidon\n",
      "rm -rf ./data/repos/att_XACML\n",
      "rm -rf ./data/repos/eugenp_tutorials\n",
      "rm -rf ./data/repos/Activiti_Activiti\n",
      "rm -rf ./data/repos/payara_Payara\n",
      "rm -rf ./data/repos/jboss-fuse_fabric8\n",
      "rm -rf ./data/repos/confluentinc_camus\n",
      "rm -rf ./data/repos/BUS-Team_bus\n",
      "rm -rf ./data/repos/joinfaces_joinfaces\n",
      "rm -rf ./data/repos/hazelcast_hazelcast\n",
      "rm -rf ./data/repos/PantheonTechnologies_lighty-core\n",
      "rm -rf ./data/repos/apache_giraph\n",
      "rm -rf ./data/repos/dCache_dcache\n",
      "rm -rf ./data/repos/deeplearning4j_DataVec\n",
      "rm -rf ./data/repos/jdemetra_jdemetra-core\n",
      "rm -rf ./data/repos/apache_hbase\n",
      "rm -rf ./data/repos/jdemetra_jdemetra-app\n",
      "rm -rf ./data/repos/LearnLib_learnlib\n",
      "rm -rf ./data/repos/Azure_azure-functions-java-worker\n",
      "rm -rf ./data/repos/ninjaframework_ninja\n",
      "rm -rf ./data/repos/seata_seata\n",
      "rm -rf ./data/repos/dana-i2cat_opennaas\n",
      "rm -rf ./data/repos/apache_beam\n",
      "rm -rf ./data/repos/stephanenicolas_robospice\n",
      "rm -rf ./data/repos/cryptomator_cryptomator\n",
      "rm -rf ./data/repos/square_retrofit\n",
      "rm -rf ./data/repos/nutzam_nutzboot\n",
      "rm -rf ./data/repos/perfectsense_brightspot-cms\n",
      "rm -rf ./data/repos/ikasanEIP_ikasan\n",
      "rm -rf ./data/repos/syndesisio_syndesis\n",
      "rm -rf ./data/repos/apache_james-project\n",
      "rm -rf ./data/repos/camunda_camunda-bpm-platform\n",
      "rm -rf ./data/repos/perfectsense_dari\n",
      "rm -rf ./data/repos/bonitasoft_bonita-engine\n",
      "rm -rf ./data/repos/TIBCOSoftware_jasperreports\n",
      "rm -rf ./data/repos/spring-cloud_spring-cloud-netflix\n",
      "rm -rf ./data/repos/spring-cloud_spring-cloud-openfeign\n",
      "rm -rf ./data/repos/apache_isis\n",
      "rm -rf ./data/repos/Evolveum_midpoint\n",
      "rm -rf ./data/repos/hawkular_hawkular-services\n",
      "rm -rf ./data/repos/square_okhttp\n",
      "rm -rf ./data/repos/spotify_apollo\n",
      "rm -rf ./data/repos/MyCoRe-Org_mycore\n",
      "rm -rf ./data/repos/apache_nifi\n",
      "rm -rf ./data/repos/opencit_opencit\n",
      "rm -rf ./data/repos/FasterXML_jackson-jaxrs-providers\n",
      "rm -rf ./data/repos/penguin-statistics_backend\n",
      "rm -rf ./data/repos/gchq_Gaffer\n",
      "rm -rf ./data/repos/opendaylight_netconf\n",
      "rm -rf ./data/repos/52North_SOS\n",
      "rm -rf ./data/repos/cloudera_search\n",
      "rm -rf ./data/repos/OpenGamma_OG-Platform\n",
      "rm -rf ./data/repos/jasonish_jetty-springmvc-thymeleaf-template\n",
      "rm -rf ./data/repos/baomidou_mybatisplus-spring-boot\n",
      "rm -rf ./data/repos/apache_stanbol\n",
      "rm -rf ./data/repos/opencb_opencga\n",
      "rm -rf ./data/repos/Unidata_thredds\n",
      "rm -rf ./data/repos/getsentry_sentry-java\n",
      "rm -rf ./data/repos/apache_jackrabbit-oak\n",
      "rm -rf ./data/repos/apache_struts\n",
      "rm -rf ./data/repos/Asqatasun_Contrast-Finder\n",
      "rm -rf ./data/repos/apache_directory-server\n",
      "rm -rf ./data/repos/dockstore_dockstore\n",
      "rm -rf ./data/repos/Intel-bigdata_SSM\n",
      "rm -rf ./data/repos/gocd_gocd\n",
      "rm -rf ./data/repos/oskariorg_oskari-server\n",
      "rm -rf ./data/repos/apache_tinkerpop\n",
      "rm -rf ./data/repos/xwiki_xwiki-platform\n",
      "rm -rf ./data/repos/xwiki_xwiki-commons\n",
      "rm -rf ./data/repos/jogetworkflow_jw-community\n",
      "rm -rf ./data/repos/apache_manifoldcf\n",
      "rm -rf ./data/repos/pentaho_pentaho-platform\n",
      "rm -rf ./data/repos/Talend_data-prep\n",
      "rm -rf ./data/repos/apache_kylin\n",
      "rm -rf ./data/repos/cloudera_sentry\n",
      "rm -rf ./data/repos/uwolfer_gerrit-intellij-plugin\n",
      "rm -rf ./data/repos/pentaho_pentaho-kettle\n",
      "rm -rf ./data/repos/Sage-Bionetworks_Synapse-Repository-Services\n",
      "rm -rf ./data/repos/ndw_xmlcalabash1\n",
      "rm -rf ./data/repos/Consonance_consonance\n",
      "rm -rf ./data/repos/basho_riak-java-client\n",
      "rm -rf ./data/repos/joshsh_ripple\n",
      "rm -rf ./data/repos/myabc_appfuse\n",
      "rm -rf ./data/repos/paypal_SeLion\n",
      "rm -rf ./data/repos/InnovateUKGitHub_innovation-funding-service\n",
      "rm -rf ./data/repos/DbMaintain_dbmaintain\n",
      "rm -rf ./data/repos/europeana_corelib\n",
      "rm -rf ./data/repos/apache_geode\n",
      "rm -rf ./data/repos/cloudera_mahout\n",
      "rm -rf ./data/repos/Netcentric_accesscontroltool\n",
      "rm -rf ./data/repos/SeqWare_seqware\n",
      "rm -rf ./data/repos/igniterealtime_Openfire\n",
      "rm -rf ./data/repos/apache_shiro\n",
      "rm -rf ./data/repos/BorderTech_wcomponents\n",
      "rm -rf ./data/repos/sculptor_sculptor\n",
      "rm -rf ./data/repos/europeana_Europeana-Cloud\n",
      "rm -rf ./data/repos/opentripplanner_OpenTripPlanner\n",
      "rm -rf ./data/repos/OpenIotOrg_openiot\n",
      "rm -rf ./data/repos/apache_wink\n",
      "rm -rf ./data/repos/esigate_esigate\n",
      "rm -rf ./data/repos/apache_chemistry-opencmis\n",
      "rm -rf ./data/repos/cloudera_crunch\n",
      "rm -rf ./data/repos/apache_servicemix4-features\n",
      "rm -rf ./data/repos/apache_wss4j\n",
      "rm -rf ./data/repos/apache_wicket\n",
      "rm -rf ./data/repos/hibernate_hibernate-search\n",
      "rm -rf ./data/repos/xap_xap\n",
      "rm -rf ./data/repos/apache_activemq-apollo\n",
      "rm -rf ./data/repos/spring-projects_spring-security\n",
      "rm -rf ./data/repos/apache_ftpserver\n",
      "rm -rf ./data/repos/apache_tiles\n",
      "rm -rf ./data/repos/UniTime_unitime\n",
      "rm -rf ./data/repos/Internet2_grouper\n",
      "rm -rf ./data/repos/julianhyde_optiq\n",
      "rm -rf ./data/repos/Impetus_Kundera\n",
      "rm -rf ./data/repos/cucumber_cucumber-jvm\n",
      "rm -rf ./data/repos/intendia-oss_rxjava-gwt\n",
      "rm -rf ./data/repos/liuyadu_open-cloud\n",
      "rm -rf ./data/repos/Azure_azure-sdk-for-java\n",
      "rm -rf ./data/repos/wicketstuff_core\n",
      "rm -rf ./data/repos/miso-lims_miso-lims\n",
      "rm -rf ./data/repos/wcm-io_wcm-io-testing\n",
      "rm -rf ./data/repos/seam_solder\n",
      "rm -rf ./data/repos/wcm-io_wcm-io-wcm\n",
      "rm -rf ./data/repos/eclipse-ee4j_jersey\n",
      "rm -rf ./data/repos/eclipse-ee4j_glassfish-hk2\n",
      "rm -rf ./data/repos/deluan_shiro-faces\n",
      "rm -rf ./data/repos/support-project_knowledge\n",
      "rm -rf ./data/repos/Hack23_cia\n",
      "rm -rf ./data/repos/apache_ignite\n",
      "rm -rf ./data/repos/looly_hutool\n",
      "rm -rf ./data/repos/apache_logging-log4j2\n",
      "rm -rf ./data/repos/flowable_flowable-engine\n",
      "rm -rf ./data/repos/yonyou-iuap_iuap-pap-baseservice\n",
      "rm -rf ./data/repos/openmrs_openmrs-core\n",
      "rm -rf ./data/repos/sdl_dxa-web-application-java\n",
      "rm -rf ./data/repos/jbosstm_narayana\n",
      "rm -rf ./data/repos/kiegroup_droolsjbpm-knowledge\n",
      "rm -rf ./data/repos/wildfly-extras_wildfly-microprofile-config\n",
      "rm -rf ./data/repos/52North_series-rest-api\n",
      "rm -rf ./data/repos/paritytrading_philadelphia\n",
      "rm -rf ./data/repos/robotframework_JavalibCore\n",
      "rm -rf ./data/repos/easymock_easymock\n",
      "rm -rf ./data/repos/sialcasa_mvvmFX\n",
      "rm -rf ./data/repos/neo4j_neo4j-java-driver\n",
      "rm -rf ./data/repos/ks-no_eventstore2\n",
      "rm -rf ./data/repos/adobe_aem-project-archetype\n",
      "rm -rf ./data/repos/strimzi_strimzi-kafka-operator\n",
      "rm -rf ./data/repos/biezhi_excel-plus\n",
      "rm -rf ./data/repos/iotaledger_iota-java\n",
      "rm -rf ./data/repos/jcustenborder_kafka-connect-cdc\n",
      "rm -rf ./data/repos/automenta_narchy\n",
      "rm -rf ./data/repos/andreschaffer_event-sourcing-cqrs-examples\n",
      "rm -rf ./data/repos/AlmasB_FXGL\n",
      "rm -rf ./data/repos/sarl_sarl\n",
      "rm -rf ./data/repos/Mercateo_factcast\n",
      "rm -rf ./data/repos/Johnnei_JavaTorrent\n",
      "rm -rf ./data/repos/fabric8io_kubernetes-client\n",
      "rm -rf ./data/repos/eclipse_jetty.project\n",
      "rm -rf ./data/repos/CMSgov_qpp-conversion-tool\n",
      "rm -rf ./data/repos/cscannerio_opensource\n",
      "rm -rf ./data/repos/ome_bioformats\n",
      "rm -rf ./data/repos/apache_sqoop\n",
      "rm -rf ./data/repos/structr_structr\n",
      "rm -rf ./data/repos/cloudera_sqoop2\n",
      "rm -rf ./data/repos/dbs-leipzig_gradoop\n",
      "rm -rf ./data/repos/brooklyncentral_brooklyn\n",
      "rm -rf ./data/repos/nathanmarz_dfs-datastores\n",
      "rm -rf ./data/repos/eclipse_kapua\n",
      "rm -rf ./data/repos/teknux-org_jetty-bootstrap\n",
      "rm -rf ./data/repos/Berico-Technologies_CLAVIN\n",
      "rm -rf ./data/repos/platonai_pulsar\n",
      "rm -rf ./data/repos/pnowy_NativeCriteria\n",
      "rm -rf ./data/repos/52North_WPS\n",
      "rm -rf ./data/repos/boundlessgeo_GeoGig\n",
      "rm -rf ./data/repos/struts-community-plugins_struts2-bootstrap\n",
      "rm -rf ./data/repos/INL_BlackLab\n",
      "rm -rf ./data/repos/apache_webservices-axiom\n",
      "rm -rf ./data/repos/apache_flume\n",
      "rm -rf ./data/repos/cloudera_flume-ng\n",
      "rm -rf ./data/repos/alien4cloud_alien4cloud\n",
      "rm -rf ./data/repos/apache_maven-2\n",
      "rm -rf ./data/repos/CONNECT-Solution_CONNECT\n",
      "rm -rf ./data/repos/apache_qpid\n",
      "rm -rf ./data/repos/duanbn_pinus4j\n",
      "rm -rf ./data/repos/premium-minds_billy\n",
      "rm -rf ./data/repos/apache_jackrabbit\n",
      "rm -rf ./data/repos/mtedone_podam\n",
      "rm -rf ./data/repos/thinkaurelius_titan\n",
      "rm -rf ./data/repos/griffon_griffon\n",
      "rm -rf ./data/repos/datastax_java-driver\n",
      "rm -rf ./data/repos/ORCID_ORCID-Source\n",
      "rm -rf ./data/repos/dbpedia_topicmodel-extractor\n",
      "rm -rf ./data/repos/owlcs_owlapi\n",
      "rm -rf ./data/repos/antlr_antlr4\n",
      "rm -rf ./data/repos/pxb1988_dex2jar\n",
      "rm -rf ./data/repos/IBMStreams_streamsx.messaging\n",
      "rm -rf ./data/repos/CenterForOpenScience_cas-overlay\n",
      "rm -rf ./data/repos/JumpMind_symmetric-ds\n",
      "rm -rf ./data/repos/code4craft_webmagic\n",
      "rm -rf ./data/repos/apache_ambari\n",
      "rm -rf ./data/repos/data-integrations_wrangler\n",
      "rm -rf ./data/repos/BroadleafCommerce_BroadleafCommerce\n",
      "rm -rf ./data/repos/SonarSource_sonarqube\n",
      "rm -rf ./data/repos/Talend_tesb-rt-se\n",
      "rm -rf ./data/repos/hotelbeds-sdk_hotel-api-sdk-java\n",
      "rm -rf ./data/repos/littlefishercoder_littlefisher-system\n",
      "rm -rf ./data/repos/cdapio_cdap\n",
      "rm -rf ./data/repos/Talend_data-quality\n",
      "rm -rf ./data/repos/SmartDataAnalytics_DL-Learner\n",
      "rm -rf ./data/repos/elastic_elasticsearch\n",
      "rm -rf ./data/repos/puppetlabs_geppetto\n",
      "rm -rf ./data/repos/opendatatrentino_jackan\n",
      "rm -rf ./data/repos/keycloak_keycloak\n",
      "rm -rf ./data/repos/HalBuilder_halbuilder-core\n",
      "rm -rf ./data/repos/talios_halbuilder\n",
      "rm -rf ./data/repos/apache_avro\n",
      "rm -rf ./data/repos/apache_phoenix\n",
      "rm -rf ./data/repos/jesperfj_force-rest-api\n",
      "rm -rf ./data/repos/evrythng_evrythng-java-sdk\n",
      "rm -rf ./data/repos/Stratio_cassandra-lucene-index\n",
      "rm -rf ./data/repos/apache_oltu\n",
      "rm -rf ./data/repos/aliyun_aliyun-openapi-java-sdk\n",
      "rm -rf ./data/repos/stormpath_stormpath-sdk-java\n",
      "rm -rf ./data/repos/pveentjer_Hazelblast\n",
      "rm -rf ./data/repos/apache_mina\n",
      "rm -rf ./data/repos/FluentLenium_FluentLenium\n",
      "rm -rf ./data/repos/SonarSource_sonar-php\n",
      "rm -rf ./data/repos/SonarSource_sonar-xml\n",
      "rm -rf ./data/repos/unic_neba\n",
      "rm -rf ./data/repos/dianping_pigeon\n",
      "rm -rf ./data/repos/tyndale_step\n",
      "rm -rf ./data/repos/jooby-project_jooby\n",
      "rm -rf ./data/repos/dadoonet_legacy-search\n",
      "rm -rf ./data/repos/syhily_gossip\n",
      "rm -rf ./data/repos/automatictester_lightning\n",
      "rm -rf ./data/repos/tylanbin_platform-ng\n",
      "rm -rf ./data/repos/terasolunaorg_terasoluna-gfw\n",
      "rm -rf ./data/repos/jboss-developer_jboss-jdg-quickstarts\n",
      "rm -rf ./data/repos/ekoontz_hadoop-common\n",
      "rm -rf ./data/repos/apache_hadoop-common\n",
      "rm -rf ./data/repos/adaikiss_xun\n",
      "rm -rf ./data/repos/sofastack_sofa-rpc\n",
      "rm -rf ./data/repos/klose911_payment\n",
      "rm -rf ./data/repos/powsybl_powsybl-core\n",
      "rm -rf ./data/repos/SmartDataAnalytics_Sparqlify\n",
      "rm -rf ./data/repos/Dytanic_CloudNet\n",
      "rm -rf ./data/repos/headwirecom_peregrine-cms\n",
      "rm -rf ./data/repos/naver_ngrinder\n",
      "rm -rf ./data/repos/VueGWT_vue-gwt\n",
      "rm -rf ./data/repos/apache_plc4x\n",
      "rm -rf ./data/repos/blackbeard334_djoom3\n",
      "rm -rf ./data/repos/powermock_powermock\n",
      "rm -rf ./data/repos/boundlessgeo_suite\n",
      "rm -rf ./data/repos/terrier-org_terrier-core\n",
      "rm -rf ./data/repos/jabox_jabox\n",
      "rm -rf ./data/repos/moxi624_mogu_blog_v2\n",
      "rm -rf ./data/repos/wuyc_xpress\n",
      "rm -rf ./data/repos/lattebank_rate-limiter\n",
      "rm -rf ./data/repos/liquigraph_liquigraph\n",
      "rm -rf ./data/repos/TechEmpower_FrameworkBenchmarks\n",
      "rm -rf ./data/repos/FundRequest_platform\n",
      "rm -rf ./data/repos/wuic_wuic\n",
      "rm -rf ./data/repos/gchq_koryphe\n",
      "rm -rf ./data/repos/yqbjtu_KafkaTutorials\n",
      "rm -rf ./data/repos/vert-x3_vertx-guide-for-java-devs\n",
      "rm -rf ./data/repos/seam_faces\n",
      "rm -rf ./data/repos/jboss-developer_jboss-brms-quickstarts\n",
      "rm -rf ./data/repos/kitodo_kitodo-production\n",
      "rm -rf ./data/repos/thiki-org_thiki-kanban-backend\n",
      "rm -rf ./data/repos/o3project_odenos\n",
      "rm -rf ./data/repos/DTStack_flinkStreamSQL\n",
      "rm -rf ./data/repos/PocketServer_PocketServer-Ref\n",
      "rm -rf ./data/repos/misberner_automatalib\n",
      "rm -rf ./data/repos/seam_rest\n",
      "rm -rf ./data/repos/groovy_gmaven\n",
      "rm -rf ./data/repos/RxGirlz_OpenYspider\n",
      "rm -rf ./data/repos/gravitee-io_graviteeio-access-management\n",
      "rm -rf ./data/repos/shopping24_geoip-api\n",
      "rm -rf ./data/repos/openpnp_openpnp\n",
      "rm -rf ./data/repos/yahoojapan_multiple-dimension-spread\n",
      "rm -rf ./data/repos/terasolunaorg_terasoluna-tourreservation\n",
      "rm -rf ./data/repos/aipocom_aipo\n",
      "rm -rf ./data/repos/terasolunaorg_terasoluna-tourreservation-mybatis3\n",
      "rm -rf ./data/repos/eclipse_rt.equinox.framework\n",
      "rm -rf ./data/repos/veraPDF_veraPDF-library\n",
      "rm -rf ./data/repos/apache_abdera\n",
      "rm -rf ./data/repos/apache_ace\n"
     ]
    }
   ],
   "source": [
    "rm_template = 'rm -rf ./{}/{}'\n",
    "\n",
    "for id in range(len(errors)):\n",
    "    line = errors.iloc[id]\n",
    "    repo_name = line['repoName']\n",
    "\n",
    "\n",
    "    rm_script: str = rm_template.format(repo_prefix, repo_name)\n",
    "\n",
    "    # Run the script\n",
    "    # sub: subprocess.CompletedProcess = subprocess.run(rm_script, shell=True, capture_output=True, encoding='utf-8', errors='ignore')\n",
    "\n",
    "    print(rm_script)"
   ]
  }
 ],
 "metadata": {
  "kernelspec": {
   "display_name": "venv",
   "language": "python",
   "name": "python3"
  },
  "language_info": {
   "codemirror_mode": {
    "name": "ipython",
    "version": 3
   },
   "file_extension": ".py",
   "mimetype": "text/x-python",
   "name": "python",
   "nbconvert_exporter": "python",
   "pygments_lexer": "ipython3",
   "version": "3.10.12"
  }
 },
 "nbformat": 4,
 "nbformat_minor": 2
}
