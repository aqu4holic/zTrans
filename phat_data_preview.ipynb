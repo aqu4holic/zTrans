{
 "cells": [
  {
   "cell_type": "markdown",
   "metadata": {},
   "source": [
    "# init data"
   ]
  },
  {
   "cell_type": "code",
   "execution_count": 1,
   "metadata": {},
   "outputs": [],
   "source": [
    "import pandas as pd\n",
    "import numpy as np\n",
    "from typing import List, Tuple, Dict, Any\n",
    "\n",
    "seed = 18022004\n",
    "np.random.seed(seed)"
   ]
  },
  {
   "cell_type": "code",
   "execution_count": 2,
   "metadata": {},
   "outputs": [],
   "source": [
    "data_prefix: str = 'data'\n",
    "repo_prefix: str = f'{data_prefix}/repos'\n",
    "\n",
    "# data_name_template: str = '500_{}_sample_dataset.parquet'\n",
    "# data_types = ['log', 'test', 'others']\n",
    "\n",
    "# sampled_data_name: Dict[str, str] = {data_type: data_name_template.format(data_type) for data_type in data_types}\n",
    "\n",
    "# log_df: pd.DataFrame = pd.read_parquet(f'{data_prefix}/{sampled_data_name['log']}', engine = 'pyarrow')\n",
    "# test_df: pd.DataFrame = pd.read_parquet(f'{data_prefix}/{sampled_data_name['test']}', engine = 'pyarrow')\n",
    "# others_df: pd.DataFrame = pd.read_parquet(f'{data_prefix}/{sampled_data_name['others']}', engine = 'pyarrow')\n",
    "\n",
    "# data_name = 'migration_others_method_no_code.parquet'\n",
    "data_name = 'migration_others_class_code_no_import.parquet'"
   ]
  },
  {
   "cell_type": "markdown",
   "metadata": {},
   "source": [
    "# load data"
   ]
  },
  {
   "cell_type": "code",
   "execution_count": 3,
   "metadata": {},
   "outputs": [],
   "source": [
    "data_df: pd.DataFrame = pd.read_parquet(f'{data_prefix}/{data_name}', engine = 'pyarrow')"
   ]
  },
  {
   "cell_type": "code",
   "execution_count": 3,
   "metadata": {},
   "outputs": [],
   "source": [
    "data_name = 'official_original.parquet'\n",
    "\n",
    "data_df: pd.DataFrame = pd.read_parquet(f'{data_prefix}/{data_name}', engine = 'pyarrow')"
   ]
  },
  {
   "cell_type": "markdown",
   "metadata": {},
   "source": [
    "# init parser"
   ]
  },
  {
   "cell_type": "code",
   "execution_count": 5,
   "metadata": {},
   "outputs": [],
   "source": [
    "from tree_sitter import Language, Parser\n",
    "import tree_sitter_java as tsjava\n",
    "import difflib\n",
    "\n",
    "from tqdm import tqdm\n",
    "\n",
    "# Initialize the parser and set the Java language\n",
    "JAVA_LANGUAGE = Language(tsjava.language())\n",
    "parser = Parser(JAVA_LANGUAGE)"
   ]
  },
  {
   "cell_type": "markdown",
   "metadata": {},
   "source": [
    "# preview"
   ]
  },
  {
   "cell_type": "code",
   "execution_count": 4,
   "metadata": {},
   "outputs": [
    {
     "data": {
      "text/plain": [
       "Index(['id', 'fromLib', 'toLib', 'repoName', 'fileName', 'startCommit',\n",
       "       'endCommit', 'startCommitChanges', 'endCommitChanges',\n",
       "       'startCommitMessage', 'endCommitMessage', 'startCommitTime',\n",
       "       'endCommitTime', 'Category', 'repoOwner', 'repoSplitName'],\n",
       "      dtype='object')"
      ]
     },
     "execution_count": 4,
     "metadata": {},
     "output_type": "execute_result"
    }
   ],
   "source": [
    "data_df.columns"
   ]
  },
  {
   "cell_type": "code",
   "execution_count": 17,
   "metadata": {},
   "outputs": [],
   "source": [
    "special = data_df[3084:3088]"
   ]
  },
  {
   "cell_type": "code",
   "execution_count": 18,
   "metadata": {},
   "outputs": [
    {
     "data": {
      "text/html": [
       "<div>\n",
       "<style scoped>\n",
       "    .dataframe tbody tr th:only-of-type {\n",
       "        vertical-align: middle;\n",
       "    }\n",
       "\n",
       "    .dataframe tbody tr th {\n",
       "        vertical-align: top;\n",
       "    }\n",
       "\n",
       "    .dataframe thead th {\n",
       "        text-align: right;\n",
       "    }\n",
       "</style>\n",
       "<table border=\"1\" class=\"dataframe\">\n",
       "  <thead>\n",
       "    <tr style=\"text-align: right;\">\n",
       "      <th></th>\n",
       "      <th>id</th>\n",
       "      <th>fromLib</th>\n",
       "      <th>toLib</th>\n",
       "      <th>repoName</th>\n",
       "      <th>fileName</th>\n",
       "      <th>startCommit</th>\n",
       "      <th>endCommit</th>\n",
       "      <th>startCommitChanges</th>\n",
       "      <th>endCommitChanges</th>\n",
       "      <th>startCommitMessage</th>\n",
       "      <th>endCommitMessage</th>\n",
       "      <th>startCommitTime</th>\n",
       "      <th>endCommitTime</th>\n",
       "      <th>Category</th>\n",
       "      <th>repoOwner</th>\n",
       "      <th>repoSplitName</th>\n",
       "    </tr>\n",
       "  </thead>\n",
       "  <tbody>\n",
       "    <tr>\n",
       "      <th>3287</th>\n",
       "      <td>3287</td>\n",
       "      <td>javassist:javassist</td>\n",
       "      <td>org.javassist:javassist</td>\n",
       "      <td>RestComm_jain-slee</td>\n",
       "      <td>container/pom.xml</td>\n",
       "      <td>d1067ea6f38eee26290d166ed332ed04988201d0</td>\n",
       "      <td>d1067ea6f38eee26290d166ed332ed04988201d0</td>\n",
       "      <td>+org.javassist:javassist\\n-javassist:javassist</td>\n",
       "      <td>+org.javassist:javassist\\n-javassist:javassist</td>\n",
       "      <td>Fixed Javassist dependency. Now it depends on ...</td>\n",
       "      <td>Fixed Javassist dependency. Now it depends on ...</td>\n",
       "      <td>2016-10-10</td>\n",
       "      <td>2016-10-10</td>\n",
       "      <td>5</td>\n",
       "      <td>RestComm</td>\n",
       "      <td>jain-slee</td>\n",
       "    </tr>\n",
       "    <tr>\n",
       "      <th>3288</th>\n",
       "      <td>3288</td>\n",
       "      <td>javassist:javassist</td>\n",
       "      <td>org.javassist:javassist</td>\n",
       "      <td>hhru_nuts-and-bolts</td>\n",
       "      <td>pom.xml</td>\n",
       "      <td>d5579442dead783d6f62db1f220b705f906ac050</td>\n",
       "      <td>d5579442dead783d6f62db1f220b705f906ac050</td>\n",
       "      <td>+org.javassist:javassist\\n-javassist:javassist</td>\n",
       "      <td>+org.javassist:javassist\\n-javassist:javassist</td>\n",
       "      <td>HH-35281 update version of mockito, javassist,...</td>\n",
       "      <td>HH-35281 update version of mockito, javassist,...</td>\n",
       "      <td>2013-08-12</td>\n",
       "      <td>2013-08-12</td>\n",
       "      <td>5</td>\n",
       "      <td>hhru</td>\n",
       "      <td>nuts-and-bolts</td>\n",
       "    </tr>\n",
       "    <tr>\n",
       "      <th>3289</th>\n",
       "      <td>3289</td>\n",
       "      <td>javassist:javassist</td>\n",
       "      <td>org.javassist:javassist</td>\n",
       "      <td>miso-lims_miso-lims</td>\n",
       "      <td>pom.xml</td>\n",
       "      <td>d6a80fa22b69069bf684b82c4794df3590690cee</td>\n",
       "      <td>d6a80fa22b69069bf684b82c4794df3590690cee</td>\n",
       "      <td>+org.javassist:javassist\\n-javassist:javassist</td>\n",
       "      <td>+org.javassist:javassist\\n-javassist:javassist</td>\n",
       "      <td>GLT-1471 Excluded javassist from hibernate and...</td>\n",
       "      <td>GLT-1471 Excluded javassist from hibernate and...</td>\n",
       "      <td>2017-01-26</td>\n",
       "      <td>2017-01-26</td>\n",
       "      <td>5</td>\n",
       "      <td>miso-lims</td>\n",
       "      <td>miso-lims</td>\n",
       "    </tr>\n",
       "    <tr>\n",
       "      <th>3290</th>\n",
       "      <td>3290</td>\n",
       "      <td>javassist:javassist</td>\n",
       "      <td>org.javassist:javassist</td>\n",
       "      <td>OpenNMS_opennms</td>\n",
       "      <td>dependencies/spring/pom.xml</td>\n",
       "      <td>d743183a1a954f9bd413464a75ab16c563db21a6</td>\n",
       "      <td>d743183a1a954f9bd413464a75ab16c563db21a6</td>\n",
       "      <td>+org.javassist:javassist\\n-javassist:javassist</td>\n",
       "      <td>+org.javassist:javassist\\n-javassist:javassist</td>\n",
       "      <td>powermock and javassist updates\\n\\nProper fix ...</td>\n",
       "      <td>powermock and javassist updates\\n\\nProper fix ...</td>\n",
       "      <td>2014-06-17</td>\n",
       "      <td>2014-06-17</td>\n",
       "      <td>5</td>\n",
       "      <td>OpenNMS</td>\n",
       "      <td>opennms</td>\n",
       "    </tr>\n",
       "  </tbody>\n",
       "</table>\n",
       "</div>"
      ],
      "text/plain": [
       "        id              fromLib                    toLib             repoName  \\\n",
       "3287  3287  javassist:javassist  org.javassist:javassist   RestComm_jain-slee   \n",
       "3288  3288  javassist:javassist  org.javassist:javassist  hhru_nuts-and-bolts   \n",
       "3289  3289  javassist:javassist  org.javassist:javassist  miso-lims_miso-lims   \n",
       "3290  3290  javassist:javassist  org.javassist:javassist      OpenNMS_opennms   \n",
       "\n",
       "                         fileName                               startCommit  \\\n",
       "3287            container/pom.xml  d1067ea6f38eee26290d166ed332ed04988201d0   \n",
       "3288                      pom.xml  d5579442dead783d6f62db1f220b705f906ac050   \n",
       "3289                      pom.xml  d6a80fa22b69069bf684b82c4794df3590690cee   \n",
       "3290  dependencies/spring/pom.xml  d743183a1a954f9bd413464a75ab16c563db21a6   \n",
       "\n",
       "                                     endCommit  \\\n",
       "3287  d1067ea6f38eee26290d166ed332ed04988201d0   \n",
       "3288  d5579442dead783d6f62db1f220b705f906ac050   \n",
       "3289  d6a80fa22b69069bf684b82c4794df3590690cee   \n",
       "3290  d743183a1a954f9bd413464a75ab16c563db21a6   \n",
       "\n",
       "                                  startCommitChanges  \\\n",
       "3287  +org.javassist:javassist\\n-javassist:javassist   \n",
       "3288  +org.javassist:javassist\\n-javassist:javassist   \n",
       "3289  +org.javassist:javassist\\n-javassist:javassist   \n",
       "3290  +org.javassist:javassist\\n-javassist:javassist   \n",
       "\n",
       "                                    endCommitChanges  \\\n",
       "3287  +org.javassist:javassist\\n-javassist:javassist   \n",
       "3288  +org.javassist:javassist\\n-javassist:javassist   \n",
       "3289  +org.javassist:javassist\\n-javassist:javassist   \n",
       "3290  +org.javassist:javassist\\n-javassist:javassist   \n",
       "\n",
       "                                     startCommitMessage  \\\n",
       "3287  Fixed Javassist dependency. Now it depends on ...   \n",
       "3288  HH-35281 update version of mockito, javassist,...   \n",
       "3289  GLT-1471 Excluded javassist from hibernate and...   \n",
       "3290  powermock and javassist updates\\n\\nProper fix ...   \n",
       "\n",
       "                                       endCommitMessage startCommitTime  \\\n",
       "3287  Fixed Javassist dependency. Now it depends on ...      2016-10-10   \n",
       "3288  HH-35281 update version of mockito, javassist,...      2013-08-12   \n",
       "3289  GLT-1471 Excluded javassist from hibernate and...      2017-01-26   \n",
       "3290  powermock and javassist updates\\n\\nProper fix ...      2014-06-17   \n",
       "\n",
       "     endCommitTime  Category  repoOwner   repoSplitName  \n",
       "3287    2016-10-10         5   RestComm       jain-slee  \n",
       "3288    2013-08-12         5       hhru  nuts-and-bolts  \n",
       "3289    2017-01-26         5  miso-lims       miso-lims  \n",
       "3290    2014-06-17         5    OpenNMS         opennms  "
      ]
     },
     "execution_count": 18,
     "metadata": {},
     "output_type": "execute_result"
    }
   ],
   "source": [
    "special"
   ]
  }
 ],
 "metadata": {
  "kernelspec": {
   "display_name": "venv",
   "language": "python",
   "name": "python3"
  },
  "language_info": {
   "codemirror_mode": {
    "name": "ipython",
    "version": 3
   },
   "file_extension": ".py",
   "mimetype": "text/x-python",
   "name": "python",
   "nbconvert_exporter": "python",
   "pygments_lexer": "ipython3",
   "version": "3.10.12"
  }
 },
 "nbformat": 4,
 "nbformat_minor": 2
}
