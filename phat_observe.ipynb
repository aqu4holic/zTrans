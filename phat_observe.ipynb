{
 "cells": [
  {
   "cell_type": "markdown",
   "metadata": {},
   "source": [
    "# init"
   ]
  },
  {
   "cell_type": "code",
   "execution_count": 1,
   "metadata": {},
   "outputs": [],
   "source": [
    "import pandas as pd\n",
    "import numpy as np\n",
    "from typing import List, Tuple, Dict, Any\n",
    "\n",
    "seed = 18022004\n",
    "np.random.seed(seed)"
   ]
  },
  {
   "cell_type": "code",
   "execution_count": 2,
   "metadata": {},
   "outputs": [],
   "source": [
    "data_prefix: str = 'data'\n",
    "repo_prefix: str = f'{data_prefix}/repos'\n",
    "\n",
    "data_name = 'no_comment_dataset.parquet'\n",
    "\n",
    "data_df: pd.DataFrame = pd.read_parquet(f'{data_prefix}/{data_name}', engine = 'pyarrow')"
   ]
  },
  {
   "cell_type": "markdown",
   "metadata": {},
   "source": [
    "# init parser"
   ]
  },
  {
   "cell_type": "code",
   "execution_count": 3,
   "metadata": {},
   "outputs": [],
   "source": [
    "from tree_sitter import Language, Parser\n",
    "import tree_sitter_java as tsjava\n",
    "\n",
    "# Initialize the parser and set the Java language\n",
    "JAVA_LANGUAGE = Language(tsjava.language())\n",
    "parser = Parser(JAVA_LANGUAGE)"
   ]
  },
  {
   "cell_type": "code",
   "execution_count": 4,
   "metadata": {},
   "outputs": [],
   "source": [
    "def extract_methods_with_body(java_code):\n",
    "    methods = []\n",
    "    # print('java_code :',java_code)\n",
    "    try:\n",
    "        try:\n",
    "            java_code = java_code.encode('utf-8')\n",
    "        except Exception as e:\n",
    "            print(e)\n",
    "        tree = parser.parse(java_code)\n",
    "        root_node = tree.root_node\n",
    "        # Function to extract code from a node\n",
    "        def extract_code(source_code, node):\n",
    "            start_byte = node.start_byte\n",
    "            end_byte = node.end_byte\n",
    "            return source_code[start_byte:end_byte].decode(\"utf-8\")\n",
    "\n",
    "        # Traverse the syntax tree and find the method declaration\n",
    "        for child in root_node.children:\n",
    "            if child.type == \"class_declaration\":\n",
    "                for class_child in child.children:\n",
    "                    if class_child.type == \"class_body\":\n",
    "                        for body_child in class_child.children:\n",
    "                            if body_child.type == \"method_declaration\":\n",
    "                                # Check for valid method declaration without errors\n",
    "                                if not any(c.type == \"ERROR\" for c in body_child.children):\n",
    "                                    method_name = \"\"\n",
    "                                    method_signature = \"\"\n",
    "                                    method_body = \"\"\n",
    "                                    modifiers = []\n",
    "                                    return_type = \"\"\n",
    "\n",
    "                                    # Extract components of the method declaration\n",
    "                                    for method_child in body_child.children:\n",
    "                                        if method_child.type == \"modifiers\":\n",
    "                                            modifiers = [extract_code(java_code, modifier) for modifier in method_child.children]\n",
    "                                        elif method_child.type in [\"type\", \"type_identifier\", \"scoped_type_identifier\"]:  # Handle nested type nodes\n",
    "                                            return_type = extract_code(java_code, method_child)\n",
    "                                        elif method_child.type == \"identifier\":  # Capture method name\n",
    "                                            method_name = extract_code(java_code, method_child)\n",
    "                                        elif method_child.type == \"formal_parameters\":  # Capture parameters\n",
    "                                            parameters = extract_code(java_code, method_child)\n",
    "                                            method_signature = f\"{' '.join(modifiers)} {return_type} {method_name}{parameters}\"\n",
    "                                    method_body = extract_code(java_code, body_child)\n",
    "                                    methods.append({\n",
    "                                        \"name\": method_name,\n",
    "                                        \"signature\": method_signature.strip(),\n",
    "                                        \"body\": method_body\n",
    "                                    })\n",
    "            else:\n",
    "                # print('child.type :',child.type)\n",
    "                pass\n",
    "\n",
    "        return methods\n",
    "    except Exception as e:\n",
    "        print('Loi :' ,e)\n",
    "        return None"
   ]
  },
  {
   "cell_type": "markdown",
   "metadata": {},
   "source": [
    "# observe"
   ]
  },
  {
   "cell_type": "code",
   "execution_count": 43,
   "metadata": {},
   "outputs": [
    {
     "name": "stdout",
     "output_type": "stream",
     "text": [
      "package org.mule.module.jersey;\n",
      "public class RootServletTestCase extends AbstractServletTestCase \n",
      "{\n",
      "    public RootServletTestCase() \n",
      "    {\n",
      "        super(\"/*\");\n",
      "    }\n",
      "    public void testBasic() throws Exception\n",
      "    {\n",
      "        testBasic(\"http://localhost:63088/base\");\n",
      "    }\n",
      "    @Override\n",
      "    protected String getConfigResources() \n",
      "    {\n",
      "        return \"servlet-conf.xml\";\n",
      "    }\n",
      "}\n"
     ]
    }
   ],
   "source": [
    "edge_cases = data_df[data_df['startCode_cleaned'].str.contains('//')]\n",
    "\n",
    "print(edge_cases.iloc[3]['startCode_cleaned'])"
   ]
  },
  {
   "cell_type": "code",
   "execution_count": 46,
   "metadata": {},
   "outputs": [
    {
     "name": "stdout",
     "output_type": "stream",
     "text": [
      "errors: 470\n"
     ]
    }
   ],
   "source": [
    "errors = open(f'{data_prefix}/tmp.txt', 'r')\n",
    "errors = [int(i.strip()) for i in errors.readlines()]\n",
    "\n",
    "print(f'errors: {len(errors)}')"
   ]
  },
  {
   "cell_type": "code",
   "execution_count": 5,
   "metadata": {},
   "outputs": [],
   "source": [
    "errors = [210]"
   ]
  },
  {
   "cell_type": "code",
   "execution_count": 15,
   "metadata": {},
   "outputs": [
    {
     "name": "stdout",
     "output_type": "stream",
     "text": [
      "child.type : block_comment\n",
      "child.type : package_declaration\n",
      "child.type : import_declaration\n",
      "child.type : import_declaration\n",
      "child.type : import_declaration\n",
      "child.type : import_declaration\n",
      "child.type : import_declaration\n",
      "child.type : import_declaration\n",
      "child.type : import_declaration\n",
      "child.type : block_comment\n",
      "child.type : block_comment\n",
      "child.type : package_declaration\n",
      "child.type : import_declaration\n",
      "child.type : import_declaration\n",
      "child.type : import_declaration\n",
      "child.type : import_declaration\n",
      "child.type : import_declaration\n",
      "child.type : import_declaration\n",
      "child.type : import_declaration\n",
      "child.type : block_comment\n",
      "child.type : package_declaration\n",
      "child.type : import_declaration\n",
      "child.type : import_declaration\n",
      "child.type : import_declaration\n",
      "child.type : import_declaration\n",
      "child.type : import_declaration\n",
      "child.type : import_declaration\n",
      "child.type : import_declaration\n",
      "child.type : package_declaration\n",
      "child.type : import_declaration\n",
      "child.type : import_declaration\n",
      "child.type : import_declaration\n",
      "child.type : import_declaration\n",
      "child.type : import_declaration\n",
      "child.type : import_declaration\n",
      "child.type : import_declaration\n"
     ]
    }
   ],
   "source": [
    "correct_errors = []\n",
    "for id in errors:\n",
    "    try:\n",
    "        row = data_df.iloc[id]\n",
    "    except Exception as e:\n",
    "        print(e)\n",
    "        print('id :', id)\n",
    "        continue\n",
    "\n",
    "    start_code = row['startCode']\n",
    "    end_code = row['endCode']\n",
    "    start_code_cleaned = row['startCode_cleaned']\n",
    "    end_code_cleaned = row['endCode_cleaned']\n",
    "\n",
    "    parsed_methods_start = extract_methods_with_body(start_code)\n",
    "    parsed_methods_end = extract_methods_with_body(end_code)\n",
    "\n",
    "    parsed_methods_start_cleaned = extract_methods_with_body(start_code_cleaned)\n",
    "    parsed_methods_end_cleaned = extract_methods_with_body(end_code_cleaned)\n",
    "\n",
    "    try:\n",
    "        if ((len(parsed_methods_start) != len(parsed_methods_start_cleaned)) or (len(parsed_methods_end) != len(parsed_methods_end_cleaned))):\n",
    "            print('id :', id)\n",
    "            print('parsed_methods_start :', parsed_methods_start)\n",
    "            print('parsed_methods_end :', parsed_methods_end)\n",
    "            print('parsed_methods_start_cleaned :', parsed_methods_start_cleaned)\n",
    "            print('parsed_methods_end_cleaned :', parsed_methods_end_cleaned)\n",
    "            print('----------------------------------------')\n",
    "\n",
    "            print(f'start_code: {start_code}')\n",
    "            print('-' * 50)\n",
    "            # print(f'end_code: {end_code}')\n",
    "            print(f'start_code_cleaned: {start_code_cleaned}')\n",
    "            # print(f'end_code_cleaned: {end_code_cleaned}')\n",
    "            print('-' * 50)\n",
    "            correct_errors.append(id)\n",
    "\n",
    "            break\n",
    "    except Exception as e:\n",
    "        print(e)\n",
    "        print('id :', id)"
   ]
  },
  {
   "cell_type": "code",
   "execution_count": 7,
   "metadata": {},
   "outputs": [
    {
     "name": "stdout",
     "output_type": "stream",
     "text": [
      "/*\n",
      " * $Id$\n",
      " * --------------------------------------------------------------------------------------\n",
      " * Copyright (c) MuleSource, Inc.  All rights reserved.  http://www.mulesource.com\n",
      " *\n",
      " * The software in this package is published under the terms of the CPAL v1.0\n",
      " * license, a copy of which has been included with this distribution in the\n",
      " * LICENSE.txt file.\n",
      " */\n",
      "\n",
      "package org.mule.routing;\n",
      "\n",
      "import org.mule.impl.MuleEvent;\n",
      "import org.mule.umo.UMOMessage;\n",
      "import org.mule.umo.UMOSession;\n",
      "import org.mule.umo.endpoint.UMOEndpoint;\n",
      "import org.mule.umo.routing.RoutingException;\n",
      "\n",
      "import org.apache.commons.logging.Log;\n",
      "import org.apache.commons.logging.LogFactory;\n",
      "\n",
      "/**\n",
      " * <code>LoggingCatchAllStrategy</code> is a simple strategy that only logs any\n",
      " * events not caught by the router associated with this strategy. This should <b>not</b>\n",
      " * be used in production unless it is acceptible for events to be disposing.\n",
      " */\n",
      "\n",
      "public class LoggingCatchAllStrategy extends AbstractCatchAllStrategy\n",
      "{\n",
      "    private static final Log logger = LogFactory.getLog(MuleEvent.class);\n",
      "\n",
      "    public void setEndpoint(UMOEndpoint endpoint)\n",
      "    {\n",
      "        throw new UnsupportedOperationException(\"An endpoint cannot be set on this Catch All strategy\");\n",
      "    }\n",
      "\n",
      "    public void setEndpoint(String endpoint)\n",
      "    {\n",
      "        throw new UnsupportedOperationException(\"An endpoint cannot be set on this Catch All strategy\");\n",
      "    }\n",
      "\n",
      "    public UMOEndpoint getEndpoint()\n",
      "    {\n",
      "        return null;\n",
      "    }\n",
      "\n",
      "    public UMOMessage catchMessage(UMOMessage message, UMOSession session, boolean synchronous)\n",
      "        throws RoutingException\n",
      "    {\n",
      "        logger.warn(\"Message: \" + message + \" was not dispatched on session: \" + session\n",
      "                    + \". No routing path was defined for it.\");\n",
      "        return null;\n",
      "    }\n",
      "}\n",
      "\n"
     ]
    }
   ],
   "source": [
    "print(start_code)"
   ]
  },
  {
   "cell_type": "code",
   "execution_count": null,
   "metadata": {},
   "outputs": [],
   "source": []
  }
 ],
 "metadata": {
  "kernelspec": {
   "display_name": "venv",
   "language": "python",
   "name": "python3"
  },
  "language_info": {
   "codemirror_mode": {
    "name": "ipython",
    "version": 3
   },
   "file_extension": ".py",
   "mimetype": "text/x-python",
   "name": "python",
   "nbconvert_exporter": "python",
   "pygments_lexer": "ipython3",
   "version": "3.10.12"
  }
 },
 "nbformat": 4,
 "nbformat_minor": 2
}
