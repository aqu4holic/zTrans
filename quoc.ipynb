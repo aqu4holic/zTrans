{
 "cells": [
  {
   "cell_type": "code",
   "execution_count": 1,
   "metadata": {},
   "outputs": [],
   "source": [
    "import pandas as pd\n",
    "data = pd.read_parquet('/drive2/phatnt/zTrans/data/no_comment_dataset.parquet')"
   ]
  },
  {
   "cell_type": "code",
   "execution_count": 4,
   "metadata": {},
   "outputs": [
    {
     "name": "stdout",
     "output_type": "stream",
     "text": [
      "id                                                                    4\n",
      "fromLib                                                         ant:ant\n",
      "toLib                                                org.apache.ant:ant\n",
      "repoName                                            bobmcwhirter_drools\n",
      "repoOwner                                                  bobmcwhirter\n",
      "repoSplitName                                                    drools\n",
      "prevCommit                     2ba5d35fb486c4a16b5b8b15fc247e8759bfa54f\n",
      "startCommit                    92384035a8651b675c82689b24837eb8adb81d66\n",
      "endCommit                      0df25aead759b3b542a685ac21a3a009bcd22fe9\n",
      "fileName              drools-compiler/src/test/java/org/drools/guvno...\n",
      "startCode             package org.drools.guvnor.server.util;\\n\\nimpo...\n",
      "endCode               package org.drools.guvnor.server.util;\\n\\nimpo...\n",
      "diff                  diff --git a/drools-compiler/src/test/java/org...\n",
      "startCommitChanges                             +org.mockito:mockito-all\n",
      "endCommitChanges              -org.jmock:jmock\\n-org.jmock:jmock-legacy\n",
      "startCode_cleaned     package org.drools.guvnor.server.util;\\nimport...\n",
      "endCode_cleaned       package org.drools.guvnor.server.util;\\nimport...\n",
      "diff_cleaned          --- \\n+++ \\n@@ -3,11 +3,9 @@\\n import org.droo...\n",
      "total_added                                                          13\n",
      "total_removed                                                        18\n",
      "total_position                                                        3\n",
      "detailed_changes      [{'added_count': 1, 'lib_changes': 3, 'line_ch...\n",
      "lib_percentage                                                 0.096774\n",
      "annotation_change                                                   0.0\n",
      "Name: 1, dtype: object\n"
     ]
    }
   ],
   "source": [
    "print(data.iloc[1])"
   ]
  },
  {
   "cell_type": "code",
   "execution_count": 4,
   "metadata": {},
   "outputs": [
    {
     "data": {
      "text/plain": [
       "count    21154.000000\n",
       "mean         9.762409\n",
       "std         17.468548\n",
       "min          0.000000\n",
       "25%          2.000000\n",
       "50%          5.000000\n",
       "75%         11.000000\n",
       "max        463.000000\n",
       "Name: total_methods_before, dtype: float64"
      ]
     },
     "execution_count": 4,
     "metadata": {},
     "output_type": "execute_result"
    }
   ],
   "source": [
    "# tke 1 class co bao nhieu method\n",
    "data['total_methods_before'].describe()"
   ]
  },
  {
   "cell_type": "code",
   "execution_count": 3,
   "metadata": {},
   "outputs": [
    {
     "ename": "KeyError",
     "evalue": "'total_methods_before'",
     "output_type": "error",
     "traceback": [
      "\u001b[0;31m---------------------------------------------------------------------------\u001b[0m",
      "\u001b[0;31mKeyError\u001b[0m                                  Traceback (most recent call last)",
      "File \u001b[0;32m/drive2/phatnt/zTrans/venv/lib/python3.10/site-packages/pandas/core/indexes/base.py:3805\u001b[0m, in \u001b[0;36mIndex.get_loc\u001b[0;34m(self, key)\u001b[0m\n\u001b[1;32m   3804\u001b[0m \u001b[38;5;28;01mtry\u001b[39;00m:\n\u001b[0;32m-> 3805\u001b[0m     \u001b[38;5;28;01mreturn\u001b[39;00m \u001b[38;5;28;43mself\u001b[39;49m\u001b[38;5;241;43m.\u001b[39;49m\u001b[43m_engine\u001b[49m\u001b[38;5;241;43m.\u001b[39;49m\u001b[43mget_loc\u001b[49m\u001b[43m(\u001b[49m\u001b[43mcasted_key\u001b[49m\u001b[43m)\u001b[49m\n\u001b[1;32m   3806\u001b[0m \u001b[38;5;28;01mexcept\u001b[39;00m \u001b[38;5;167;01mKeyError\u001b[39;00m \u001b[38;5;28;01mas\u001b[39;00m err:\n",
      "File \u001b[0;32mindex.pyx:167\u001b[0m, in \u001b[0;36mpandas._libs.index.IndexEngine.get_loc\u001b[0;34m()\u001b[0m\n",
      "File \u001b[0;32mindex.pyx:196\u001b[0m, in \u001b[0;36mpandas._libs.index.IndexEngine.get_loc\u001b[0;34m()\u001b[0m\n",
      "File \u001b[0;32mpandas/_libs/hashtable_class_helper.pxi:7081\u001b[0m, in \u001b[0;36mpandas._libs.hashtable.PyObjectHashTable.get_item\u001b[0;34m()\u001b[0m\n",
      "File \u001b[0;32mpandas/_libs/hashtable_class_helper.pxi:7089\u001b[0m, in \u001b[0;36mpandas._libs.hashtable.PyObjectHashTable.get_item\u001b[0;34m()\u001b[0m\n",
      "\u001b[0;31mKeyError\u001b[0m: 'total_methods_before'",
      "\nThe above exception was the direct cause of the following exception:\n",
      "\u001b[0;31mKeyError\u001b[0m                                  Traceback (most recent call last)",
      "Cell \u001b[0;32mIn[3], line 1\u001b[0m\n\u001b[0;32m----> 1\u001b[0m t \u001b[38;5;241m=\u001b[39m data[\u001b[43mdata\u001b[49m\u001b[43m[\u001b[49m\u001b[38;5;124;43m'\u001b[39;49m\u001b[38;5;124;43mtotal_methods_before\u001b[39;49m\u001b[38;5;124;43m'\u001b[39;49m\u001b[43m]\u001b[49m \u001b[38;5;241m==\u001b[39m \u001b[38;5;241m0\u001b[39m]\n\u001b[1;32m      2\u001b[0m \u001b[38;5;66;03m# print(t.iloc[1]['endCode'])\u001b[39;00m\n",
      "File \u001b[0;32m/drive2/phatnt/zTrans/venv/lib/python3.10/site-packages/pandas/core/frame.py:4102\u001b[0m, in \u001b[0;36mDataFrame.__getitem__\u001b[0;34m(self, key)\u001b[0m\n\u001b[1;32m   4100\u001b[0m \u001b[38;5;28;01mif\u001b[39;00m \u001b[38;5;28mself\u001b[39m\u001b[38;5;241m.\u001b[39mcolumns\u001b[38;5;241m.\u001b[39mnlevels \u001b[38;5;241m>\u001b[39m \u001b[38;5;241m1\u001b[39m:\n\u001b[1;32m   4101\u001b[0m     \u001b[38;5;28;01mreturn\u001b[39;00m \u001b[38;5;28mself\u001b[39m\u001b[38;5;241m.\u001b[39m_getitem_multilevel(key)\n\u001b[0;32m-> 4102\u001b[0m indexer \u001b[38;5;241m=\u001b[39m \u001b[38;5;28;43mself\u001b[39;49m\u001b[38;5;241;43m.\u001b[39;49m\u001b[43mcolumns\u001b[49m\u001b[38;5;241;43m.\u001b[39;49m\u001b[43mget_loc\u001b[49m\u001b[43m(\u001b[49m\u001b[43mkey\u001b[49m\u001b[43m)\u001b[49m\n\u001b[1;32m   4103\u001b[0m \u001b[38;5;28;01mif\u001b[39;00m is_integer(indexer):\n\u001b[1;32m   4104\u001b[0m     indexer \u001b[38;5;241m=\u001b[39m [indexer]\n",
      "File \u001b[0;32m/drive2/phatnt/zTrans/venv/lib/python3.10/site-packages/pandas/core/indexes/base.py:3812\u001b[0m, in \u001b[0;36mIndex.get_loc\u001b[0;34m(self, key)\u001b[0m\n\u001b[1;32m   3807\u001b[0m     \u001b[38;5;28;01mif\u001b[39;00m \u001b[38;5;28misinstance\u001b[39m(casted_key, \u001b[38;5;28mslice\u001b[39m) \u001b[38;5;129;01mor\u001b[39;00m (\n\u001b[1;32m   3808\u001b[0m         \u001b[38;5;28misinstance\u001b[39m(casted_key, abc\u001b[38;5;241m.\u001b[39mIterable)\n\u001b[1;32m   3809\u001b[0m         \u001b[38;5;129;01mand\u001b[39;00m \u001b[38;5;28many\u001b[39m(\u001b[38;5;28misinstance\u001b[39m(x, \u001b[38;5;28mslice\u001b[39m) \u001b[38;5;28;01mfor\u001b[39;00m x \u001b[38;5;129;01min\u001b[39;00m casted_key)\n\u001b[1;32m   3810\u001b[0m     ):\n\u001b[1;32m   3811\u001b[0m         \u001b[38;5;28;01mraise\u001b[39;00m InvalidIndexError(key)\n\u001b[0;32m-> 3812\u001b[0m     \u001b[38;5;28;01mraise\u001b[39;00m \u001b[38;5;167;01mKeyError\u001b[39;00m(key) \u001b[38;5;28;01mfrom\u001b[39;00m \u001b[38;5;21;01merr\u001b[39;00m\n\u001b[1;32m   3813\u001b[0m \u001b[38;5;28;01mexcept\u001b[39;00m \u001b[38;5;167;01mTypeError\u001b[39;00m:\n\u001b[1;32m   3814\u001b[0m     \u001b[38;5;66;03m# If we have a listlike key, _check_indexing_error will raise\u001b[39;00m\n\u001b[1;32m   3815\u001b[0m     \u001b[38;5;66;03m#  InvalidIndexError. Otherwise we fall through and re-raise\u001b[39;00m\n\u001b[1;32m   3816\u001b[0m     \u001b[38;5;66;03m#  the TypeError.\u001b[39;00m\n\u001b[1;32m   3817\u001b[0m     \u001b[38;5;28mself\u001b[39m\u001b[38;5;241m.\u001b[39m_check_indexing_error(key)\n",
      "\u001b[0;31mKeyError\u001b[0m: 'total_methods_before'"
     ]
    }
   ],
   "source": [
    "t = data[data['total_methods_before'] == 0]\n",
    "# print(t.iloc[1]['endCode'])"
   ]
  },
  {
   "cell_type": "code",
   "execution_count": 13,
   "metadata": {},
   "outputs": [
    {
     "name": "stdout",
     "output_type": "stream",
     "text": [
      "--- Method 1\n",
      "+++ Method 2\n",
      "@@ -55,13 +55,21 @@\n",
      "      */\n",
      "     public boolean isEvent();\n",
      "     \n",
      "-    public RightTuple getRightTuple();\n",
      "+    public RightTuple getFirstRightTuple();\n",
      " \n",
      "-    public void setRightTuple(RightTuple rightTuple);\n",
      "+    public void setFirstRightTuple(RightTuple rightTuple);\n",
      "+\n",
      "+    public RightTuple getLastRightTuple();\n",
      "+\n",
      "+    public void setLastRightTuple(RightTuple rightTuple);    \n",
      "+        \n",
      "+    public void setFirstLeftTuple(LeftTuple leftTuple);\n",
      "     \n",
      "-    public void setLeftTuple(LeftTuple leftTuple);\n",
      "+    public LeftTuple getFirstLeftTuple();\n",
      "     \n",
      "-    public LeftTuple getLeftTuple();\n",
      "+    public void setLastLeftTuple(LeftTuple leftTuple);    \n",
      "+    \n",
      "+    public LeftTuple getLastLeftTuple();\n",
      "     \n",
      "     public WorkingMemoryEntryPoint getEntryPoint();\n",
      "     \n"
     ]
    }
   ],
   "source": [
    "import difflib\n",
    "def get_diff_lines(method_1,method_2):\n",
    "    diff = difflib.unified_diff(\n",
    "    method_1.splitlines(), \n",
    "    method_2.splitlines(), \n",
    "    lineterm='',  # Avoid newline being added to the output\n",
    "    fromfile='Method 1',\n",
    "    tofile='Method 2'\n",
    "    )\n",
    "    diff = '\\n'.join(diff)\n",
    "    diff_changes = diff\n",
    "    diff = diff.splitlines()\n",
    "    \n",
    "    remove = 0\n",
    "    add = 0\n",
    "    for i in diff:\n",
    "        if i.startswith('-') and '---' not in i:\n",
    "            remove+=1\n",
    "        elif i.startswith('+') and '+++' not in i:\n",
    "            add += 1\n",
    "    return {'remove' : remove,'add' : add,'diff_changes' : diff_changes}\n",
    "a = get_diff_lines(t.iloc[1]['startCode'],t.iloc[1]['endCode'])\n",
    "print(a['diff_changes'])"
   ]
  },
  {
   "cell_type": "code",
   "execution_count": 17,
   "metadata": {},
   "outputs": [
    {
     "data": {
      "text/plain": [
       "count    21154.000000\n",
       "mean        10.149333\n",
       "std         18.383528\n",
       "min          0.000000\n",
       "25%          2.000000\n",
       "50%          5.000000\n",
       "75%         11.000000\n",
       "max        600.000000\n",
       "Name: total_methods_after, dtype: float64"
      ]
     },
     "execution_count": 17,
     "metadata": {},
     "output_type": "execute_result"
    }
   ],
   "source": [
    "data['total_methods_after'].describe()"
   ]
  },
  {
   "cell_type": "code",
   "execution_count": 5,
   "metadata": {},
   "outputs": [
    {
     "data": {
      "text/html": [
       "<div>\n",
       "<style scoped>\n",
       "    .dataframe tbody tr th:only-of-type {\n",
       "        vertical-align: middle;\n",
       "    }\n",
       "\n",
       "    .dataframe tbody tr th {\n",
       "        vertical-align: top;\n",
       "    }\n",
       "\n",
       "    .dataframe thead th {\n",
       "        text-align: right;\n",
       "    }\n",
       "</style>\n",
       "<table border=\"1\" class=\"dataframe\">\n",
       "  <thead>\n",
       "    <tr style=\"text-align: right;\">\n",
       "      <th></th>\n",
       "      <th>startCommit</th>\n",
       "      <th>endCommit</th>\n",
       "      <th>total_methods_before_sum</th>\n",
       "      <th>total_methods_after_sum</th>\n",
       "      <th>count</th>\n",
       "    </tr>\n",
       "  </thead>\n",
       "  <tbody>\n",
       "    <tr>\n",
       "      <th>0</th>\n",
       "      <td>00e9a259ab6d8bde0456bdf168fed66a7cedbcff</td>\n",
       "      <td>00e9a259ab6d8bde0456bdf168fed66a7cedbcff</td>\n",
       "      <td>50</td>\n",
       "      <td>50</td>\n",
       "      <td>8</td>\n",
       "    </tr>\n",
       "    <tr>\n",
       "      <th>1</th>\n",
       "      <td>0188e9aa280b800710848d68a93af4cb28b050da</td>\n",
       "      <td>0188e9aa280b800710848d68a93af4cb28b050da</td>\n",
       "      <td>303</td>\n",
       "      <td>303</td>\n",
       "      <td>26</td>\n",
       "    </tr>\n",
       "    <tr>\n",
       "      <th>2</th>\n",
       "      <td>019d1e6e6e3715b2be91b01a48a3bd4d14a5b216</td>\n",
       "      <td>019d1e6e6e3715b2be91b01a48a3bd4d14a5b216</td>\n",
       "      <td>8</td>\n",
       "      <td>8</td>\n",
       "      <td>1</td>\n",
       "    </tr>\n",
       "    <tr>\n",
       "      <th>3</th>\n",
       "      <td>01a74c93a09157b00179bb2bb10acb8a2771bb9d</td>\n",
       "      <td>01a74c93a09157b00179bb2bb10acb8a2771bb9d</td>\n",
       "      <td>5</td>\n",
       "      <td>5</td>\n",
       "      <td>2</td>\n",
       "    </tr>\n",
       "    <tr>\n",
       "      <th>4</th>\n",
       "      <td>01ae58600c4069cd4df5081d52e81e05411694d9</td>\n",
       "      <td>01ae58600c4069cd4df5081d52e81e05411694d9</td>\n",
       "      <td>21</td>\n",
       "      <td>21</td>\n",
       "      <td>3</td>\n",
       "    </tr>\n",
       "    <tr>\n",
       "      <th>...</th>\n",
       "      <td>...</td>\n",
       "      <td>...</td>\n",
       "      <td>...</td>\n",
       "      <td>...</td>\n",
       "      <td>...</td>\n",
       "    </tr>\n",
       "    <tr>\n",
       "      <th>946</th>\n",
       "      <td>fee22c96dcbf09bf8d0ea5dff58a9191e04b4398</td>\n",
       "      <td>fee22c96dcbf09bf8d0ea5dff58a9191e04b4398</td>\n",
       "      <td>29</td>\n",
       "      <td>29</td>\n",
       "      <td>6</td>\n",
       "    </tr>\n",
       "    <tr>\n",
       "      <th>947</th>\n",
       "      <td>ff048221f4cbcbc885343461a2572404c6020753</td>\n",
       "      <td>ff048221f4cbcbc885343461a2572404c6020753</td>\n",
       "      <td>433</td>\n",
       "      <td>417</td>\n",
       "      <td>39</td>\n",
       "    </tr>\n",
       "    <tr>\n",
       "      <th>948</th>\n",
       "      <td>ff661a403578c638852652ee93a5e47f447903f9</td>\n",
       "      <td>ff661a403578c638852652ee93a5e47f447903f9</td>\n",
       "      <td>28</td>\n",
       "      <td>28</td>\n",
       "      <td>4</td>\n",
       "    </tr>\n",
       "    <tr>\n",
       "      <th>949</th>\n",
       "      <td>ff848386f71e5c435860f9cb997cce30d492d161</td>\n",
       "      <td>ff848386f71e5c435860f9cb997cce30d492d161</td>\n",
       "      <td>4</td>\n",
       "      <td>4</td>\n",
       "      <td>2</td>\n",
       "    </tr>\n",
       "    <tr>\n",
       "      <th>950</th>\n",
       "      <td>ffab873a34aac04372287c9fcaa9d3c537c80759</td>\n",
       "      <td>ffab873a34aac04372287c9fcaa9d3c537c80759</td>\n",
       "      <td>0</td>\n",
       "      <td>0</td>\n",
       "      <td>1</td>\n",
       "    </tr>\n",
       "  </tbody>\n",
       "</table>\n",
       "<p>951 rows × 5 columns</p>\n",
       "</div>"
      ],
      "text/plain": [
       "                                  startCommit  \\\n",
       "0    00e9a259ab6d8bde0456bdf168fed66a7cedbcff   \n",
       "1    0188e9aa280b800710848d68a93af4cb28b050da   \n",
       "2    019d1e6e6e3715b2be91b01a48a3bd4d14a5b216   \n",
       "3    01a74c93a09157b00179bb2bb10acb8a2771bb9d   \n",
       "4    01ae58600c4069cd4df5081d52e81e05411694d9   \n",
       "..                                        ...   \n",
       "946  fee22c96dcbf09bf8d0ea5dff58a9191e04b4398   \n",
       "947  ff048221f4cbcbc885343461a2572404c6020753   \n",
       "948  ff661a403578c638852652ee93a5e47f447903f9   \n",
       "949  ff848386f71e5c435860f9cb997cce30d492d161   \n",
       "950  ffab873a34aac04372287c9fcaa9d3c537c80759   \n",
       "\n",
       "                                    endCommit  total_methods_before_sum  \\\n",
       "0    00e9a259ab6d8bde0456bdf168fed66a7cedbcff                        50   \n",
       "1    0188e9aa280b800710848d68a93af4cb28b050da                       303   \n",
       "2    019d1e6e6e3715b2be91b01a48a3bd4d14a5b216                         8   \n",
       "3    01a74c93a09157b00179bb2bb10acb8a2771bb9d                         5   \n",
       "4    01ae58600c4069cd4df5081d52e81e05411694d9                        21   \n",
       "..                                        ...                       ...   \n",
       "946  fee22c96dcbf09bf8d0ea5dff58a9191e04b4398                        29   \n",
       "947  ff048221f4cbcbc885343461a2572404c6020753                       433   \n",
       "948  ff661a403578c638852652ee93a5e47f447903f9                        28   \n",
       "949  ff848386f71e5c435860f9cb997cce30d492d161                         4   \n",
       "950  ffab873a34aac04372287c9fcaa9d3c537c80759                         0   \n",
       "\n",
       "     total_methods_after_sum  count  \n",
       "0                         50      8  \n",
       "1                        303     26  \n",
       "2                          8      1  \n",
       "3                          5      2  \n",
       "4                         21      3  \n",
       "..                       ...    ...  \n",
       "946                       29      6  \n",
       "947                      417     39  \n",
       "948                       28      4  \n",
       "949                        4      2  \n",
       "950                        0      1  \n",
       "\n",
       "[951 rows x 5 columns]"
      ]
     },
     "execution_count": 5,
     "metadata": {},
     "output_type": "execute_result"
    }
   ],
   "source": [
    "summary = data.groupby([\"startCommit\", \"endCommit\"]).agg(\n",
    "    total_methods_before_sum=(\"total_methods_before\", \"sum\"),\n",
    "    total_methods_after_sum=(\"total_methods_after\", \"sum\"),\n",
    "    count=(\"id\", \"count\"),\n",
    ").reset_index()\n",
    "summary"
   ]
  },
  {
   "cell_type": "code",
   "execution_count": 6,
   "metadata": {},
   "outputs": [
    {
     "data": {
      "text/plain": [
       "count      951.000000\n",
       "mean       217.154574\n",
       "std        845.544689\n",
       "min          0.000000\n",
       "25%         11.000000\n",
       "50%         39.000000\n",
       "75%        127.500000\n",
       "max      11954.000000\n",
       "Name: total_methods_before_sum, dtype: float64"
      ]
     },
     "execution_count": 6,
     "metadata": {},
     "output_type": "execute_result"
    }
   ],
   "source": [
    "# tbinh 1 migrations co 217 method \n",
    "summary['total_methods_before_sum'].describe()"
   ]
  },
  {
   "cell_type": "code",
   "execution_count": 7,
   "metadata": {},
   "outputs": [
    {
     "data": {
      "text/plain": [
       "count     951.000000\n",
       "mean       22.243954\n",
       "std        89.105316\n",
       "min         1.000000\n",
       "25%         2.000000\n",
       "50%         5.000000\n",
       "75%        14.000000\n",
       "max      1920.000000\n",
       "Name: count, dtype: float64"
      ]
     },
     "execution_count": 7,
     "metadata": {},
     "output_type": "execute_result"
    }
   ],
   "source": [
    "# tbinh 1 migration co 23 file \n",
    "summary['count'].describe()"
   ]
  }
 ],
 "metadata": {
  "kernelspec": {
   "display_name": "venv",
   "language": "python",
   "name": "python3"
  },
  "language_info": {
   "codemirror_mode": {
    "name": "ipython",
    "version": 3
   },
   "file_extension": ".py",
   "mimetype": "text/x-python",
   "name": "python",
   "nbconvert_exporter": "python",
   "pygments_lexer": "ipython3",
   "version": "3.10.12"
  }
 },
 "nbformat": 4,
 "nbformat_minor": 2
}
